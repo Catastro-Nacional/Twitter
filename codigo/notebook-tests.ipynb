{
 "cells": [
  {
   "cell_type": "code",
   "execution_count": 4,
   "metadata": {
    "ExecuteTime": {
     "end_time": "2019-10-27T01:43:56.166995Z",
     "start_time": "2019-10-27T01:43:48.552001Z"
    },
    "pycharm": {
     "is_executing": false
    }
   },
   "outputs": [],
   "source": [
    "%matplotlib notebook\n",
    "import matplotlib.pyplot as plt\n",
    "from main import get_keywords, get_searchWords\n",
    "import config\n",
    "import tweepy\n",
    "import pandas as pd\n",
    "import seaborn as sb\n",
    "from datetime import timedelta"
   ]
  },
  {
   "cell_type": "code",
   "execution_count": 5,
   "metadata": {
    "ExecuteTime": {
     "end_time": "2019-10-26T20:38:09.749683Z",
     "start_time": "2019-10-26T20:38:09.743094Z"
    },
    "pycharm": {
     "is_executing": false
    }
   },
   "outputs": [],
   "source": [
    "# AUTH #\n",
    "auth = tweepy.OAuthHandler(config.CONSUMER_KEY, config.CONSUMER_SECRET)\n",
    "auth.set_access_token(config.ACCESS_TOKEN, config.ACCESS_TOKEN_SECRET)"
   ]
  },
  {
   "cell_type": "code",
   "execution_count": 6,
   "metadata": {
    "ExecuteTime": {
     "end_time": "2019-10-26T20:54:27.167735Z",
     "start_time": "2019-10-26T20:54:27.157761Z"
    },
    "scrolled": true,
    "pycharm": {
     "is_executing": false
    }
   },
   "outputs": [],
   "source": [
    "# API #\n",
    "api = tweepy.API(auth)"
   ]
  },
  {
   "cell_type": "code",
   "execution_count": 7,
   "metadata": {
    "ExecuteTime": {
     "end_time": "2019-10-26T20:54:27.576814Z",
     "start_time": "2019-10-26T20:54:27.567526Z"
    },
    "pycharm": {
     "is_executing": false
    }
   },
   "outputs": [],
   "source": [
    "# Parametros de busqueda #\n",
    "search_words = get_searchWords()\n",
    "date_since = \"2019-10-16\""
   ]
  },
  {
   "cell_type": "code",
   "execution_count": 8,
   "metadata": {
    "ExecuteTime": {
     "end_time": "2019-10-26T20:54:27.810189Z",
     "start_time": "2019-10-26T20:54:27.800999Z"
    },
    "pycharm": {
     "is_executing": false
    }
   },
   "outputs": [],
   "source": [
    "# CURSOR #\n",
    "tweets = tweepy.Cursor(api.search,\n",
    "                        q=search_words,\n",
    "                        lang='es',\n",
    "                        since=date_since).items(500)"
   ]
  },
  {
   "cell_type": "code",
   "execution_count": 9,
   "metadata": {
    "ExecuteTime": {
     "end_time": "2019-10-26T20:55:39.814471Z",
     "start_time": "2019-10-26T20:54:28.054880Z"
    },
    "pycharm": {
     "is_executing": false
    }
   },
   "outputs": [
    {
     "traceback": [
      "\u001b[0;31m---------------------------------------------------------------------------\u001b[0m",
      "\u001b[0;31mNameError\u001b[0m                                 Traceback (most recent call last)",
      "\u001b[0;32m<ipython-input-9-e72e8d0cd050>\u001b[0m in \u001b[0;36m<module>\u001b[0;34m\u001b[0m\n\u001b[1;32m      2\u001b[0m \u001b[0mtweets_list\u001b[0m \u001b[0;34m=\u001b[0m \u001b[0;34m[\u001b[0m\u001b[0mtweet\u001b[0m \u001b[0;32mfor\u001b[0m \u001b[0mtweet\u001b[0m \u001b[0;32min\u001b[0m \u001b[0mtweets\u001b[0m\u001b[0;34m]\u001b[0m\u001b[0;34m\u001b[0m\u001b[0;34m\u001b[0m\u001b[0m\n\u001b[1;32m      3\u001b[0m \u001b[0;34m\u001b[0m\u001b[0m\n\u001b[0;32m----> 4\u001b[0;31m \u001b[0musers_locs\u001b[0m \u001b[0;34m=\u001b[0m \u001b[0;34m[\u001b[0m\u001b[0;34m[\u001b[0m\u001b[0mh\u001b[0m\u001b[0;34m.\u001b[0m\u001b[0mcreated_at\u001b[0m\u001b[0;34m,\u001b[0m \u001b[0mh\u001b[0m\u001b[0;34m.\u001b[0m\u001b[0muser\u001b[0m\u001b[0;34m.\u001b[0m\u001b[0mscreen_name\u001b[0m\u001b[0;34m,\u001b[0m \u001b[0mget_usermentions\u001b[0m\u001b[0;34m(\u001b[0m\u001b[0mh\u001b[0m\u001b[0;34m)\u001b[0m\u001b[0;34m,\u001b[0m \u001b[0mget_hashtags\u001b[0m\u001b[0;34m(\u001b[0m\u001b[0mh\u001b[0m\u001b[0;34m)\u001b[0m\u001b[0;34m,\u001b[0m \u001b[0mh\u001b[0m\u001b[0;34m.\u001b[0m\u001b[0muser\u001b[0m\u001b[0;34m.\u001b[0m\u001b[0mlocation\u001b[0m\u001b[0;34m]\u001b[0m \u001b[0;32mfor\u001b[0m \u001b[0mh\u001b[0m \u001b[0;32min\u001b[0m \u001b[0mtweets_list\u001b[0m\u001b[0;34m]\u001b[0m\u001b[0;34m\u001b[0m\u001b[0;34m\u001b[0m\u001b[0m\n\u001b[0m\u001b[1;32m      5\u001b[0m \u001b[0;34m\u001b[0m\u001b[0m\n",
      "\u001b[0;32m<ipython-input-9-e72e8d0cd050>\u001b[0m in \u001b[0;36m<listcomp>\u001b[0;34m(.0)\u001b[0m\n\u001b[1;32m      2\u001b[0m \u001b[0mtweets_list\u001b[0m \u001b[0;34m=\u001b[0m \u001b[0;34m[\u001b[0m\u001b[0mtweet\u001b[0m \u001b[0;32mfor\u001b[0m \u001b[0mtweet\u001b[0m \u001b[0;32min\u001b[0m \u001b[0mtweets\u001b[0m\u001b[0;34m]\u001b[0m\u001b[0;34m\u001b[0m\u001b[0;34m\u001b[0m\u001b[0m\n\u001b[1;32m      3\u001b[0m \u001b[0;34m\u001b[0m\u001b[0m\n\u001b[0;32m----> 4\u001b[0;31m \u001b[0musers_locs\u001b[0m \u001b[0;34m=\u001b[0m \u001b[0;34m[\u001b[0m\u001b[0;34m[\u001b[0m\u001b[0mh\u001b[0m\u001b[0;34m.\u001b[0m\u001b[0mcreated_at\u001b[0m\u001b[0;34m,\u001b[0m \u001b[0mh\u001b[0m\u001b[0;34m.\u001b[0m\u001b[0muser\u001b[0m\u001b[0;34m.\u001b[0m\u001b[0mscreen_name\u001b[0m\u001b[0;34m,\u001b[0m \u001b[0mget_usermentions\u001b[0m\u001b[0;34m(\u001b[0m\u001b[0mh\u001b[0m\u001b[0;34m)\u001b[0m\u001b[0;34m,\u001b[0m \u001b[0mget_hashtags\u001b[0m\u001b[0;34m(\u001b[0m\u001b[0mh\u001b[0m\u001b[0;34m)\u001b[0m\u001b[0;34m,\u001b[0m \u001b[0mh\u001b[0m\u001b[0;34m.\u001b[0m\u001b[0muser\u001b[0m\u001b[0;34m.\u001b[0m\u001b[0mlocation\u001b[0m\u001b[0;34m]\u001b[0m \u001b[0;32mfor\u001b[0m \u001b[0mh\u001b[0m \u001b[0;32min\u001b[0m \u001b[0mtweets_list\u001b[0m\u001b[0;34m]\u001b[0m\u001b[0;34m\u001b[0m\u001b[0;34m\u001b[0m\u001b[0m\n\u001b[0m\u001b[1;32m      5\u001b[0m \u001b[0;34m\u001b[0m\u001b[0m\n",
      "\u001b[0;31mNameError\u001b[0m: name 'get_usermentions' is not defined"
     ],
     "ename": "NameError",
     "evalue": "name 'get_usermentions' is not defined",
     "output_type": "error"
    }
   ],
   "source": [
    "# PROCESSING #\n",
    "tweets_list = [tweet for tweet in tweets]\n",
    "\n",
    "users_locs = [[h.created_at, h.user.screen_name, get_usermentions(h), get_hashtags(h), h.user.location] for h in tweets_list]"
   ]
  },
  {
   "cell_type": "code",
   "execution_count": null,
   "metadata": {
    "ExecuteTime": {
     "end_time": "2019-10-26T20:55:39.836098Z",
     "start_time": "2019-10-26T20:55:39.817198Z"
    },
    "pycharm": {
     "is_executing": false
    }
   },
   "outputs": [],
   "source": [
    "# DATAFRAME #\n",
    "twitter_df = pd.DataFrame(data=users_locs,\n",
    "                              columns=['time', 'user', 'user_mentions', 'hashtags', \"location\"])\n",
    "twitter_df['time'] += timedelta(hours=-3)"
   ]
  },
  {
   "cell_type": "code",
   "execution_count": null,
   "metadata": {
    "ExecuteTime": {
     "end_time": "2019-10-27T01:44:54.561347Z",
     "start_time": "2019-10-27T01:44:53.076248Z"
    },
    "pycharm": {
     "is_executing": false
    }
   },
   "outputs": [],
   "source": [
    "df = pd.read_csv('./OutputStreaming_20191026-191509.csv')"
   ]
  },
  {
   "cell_type": "markdown",
   "metadata": {},
   "source": [
    "# plotly"
   ]
  },
  {
   "cell_type": "code",
   "execution_count": null,
   "metadata": {
    "ExecuteTime": {
     "end_time": "2019-10-27T01:44:54.582607Z",
     "start_time": "2019-10-27T01:44:54.565216Z"
    },
    "pycharm": {
     "is_executing": false
    }
   },
   "outputs": [],
   "source": [
    "import plotly\n",
    "import chart_studio\n",
    "import plotly.graph_objects as go\n",
    "import plotly.io as pio"
   ]
  },
  {
   "cell_type": "code",
   "execution_count": null,
   "metadata": {
    "ExecuteTime": {
     "end_time": "2019-10-27T01:44:54.703614Z",
     "start_time": "2019-10-27T01:44:54.594761Z"
    },
    "pycharm": {
     "is_executing": false
    }
   },
   "outputs": [],
   "source": [
    "df['created_at'].value_counts().sort_index()"
   ]
  },
  {
   "cell_type": "code",
   "execution_count": null,
   "metadata": {
    "ExecuteTime": {
     "end_time": "2019-10-27T01:44:57.274940Z",
     "start_time": "2019-10-27T01:44:57.020085Z"
    },
    "scrolled": false,
    "pycharm": {
     "is_executing": false
    }
   },
   "outputs": [],
   "source": [
    "data = [go.Scatter(x=df['created_at'].unique(), y=df['created_at'].value_counts().sort_index() )]\n",
    "fig = go.Figure(data)\n",
    "fig.show()"
   ]
  },
  {
   "cell_type": "code",
   "execution_count": null,
   "metadata": {
    "ExecuteTime": {
     "end_time": "2019-10-27T01:49:20.351705Z",
     "start_time": "2019-10-27T01:49:20.283735Z"
    },
    "pycharm": {
     "is_executing": false
    }
   },
   "outputs": [],
   "source": [
    "DF=pd.to_datetime(df['created_at'])\n",
    "DF.head()"
   ]
  },
  {
   "cell_type": "code",
   "execution_count": null,
   "metadata": {
    "ExecuteTime": {
     "end_time": "2019-10-27T01:50:00.246522Z",
     "start_time": "2019-10-27T01:50:00.231514Z"
    },
    "pycharm": {
     "is_executing": false
    }
   },
   "outputs": [],
   "source": [
    "DF = DF.dt.floor('min')\n",
    "DF.head()"
   ]
  },
  {
   "cell_type": "code",
   "execution_count": null,
   "metadata": {
    "ExecuteTime": {
     "end_time": "2019-10-27T01:53:05.665870Z",
     "start_time": "2019-10-27T01:53:05.655895Z"
    },
    "pycharm": {
     "is_executing": false
    }
   },
   "outputs": [],
   "source": [
    "unique_time=pd.to_datetime(DF.unique())\n",
    "unique_time.__len__()"
   ]
  },
  {
   "cell_type": "code",
   "execution_count": null,
   "metadata": {
    "ExecuteTime": {
     "end_time": "2019-10-27T01:50:59.581949Z",
     "start_time": "2019-10-27T01:50:59.575663Z"
    },
    "pycharm": {
     "is_executing": false
    }
   },
   "outputs": [],
   "source": [
    "max_date=unique_time.max()\n",
    "max_date"
   ]
  },
  {
   "cell_type": "code",
   "execution_count": null,
   "metadata": {
    "ExecuteTime": {
     "end_time": "2019-10-27T01:55:56.847893Z",
     "start_time": "2019-10-27T01:55:56.841359Z"
    },
    "pycharm": {
     "is_executing": false
    }
   },
   "outputs": [],
   "source": [
    "direction = './OutputStreaming_20191026-191509.csv'"
   ]
  },
  {
   "cell_type": "code",
   "execution_count": null,
   "metadata": {
    "ExecuteTime": {
     "end_time": "2019-10-27T02:02:45.372034Z",
     "start_time": "2019-10-27T02:02:45.359102Z"
    },
    "pycharm": {
     "is_executing": false
    }
   },
   "outputs": [],
   "source": [
    "import time\n",
    "def getDf2plot(direction):\n",
    "    df = pd.read_csv(direction)\n",
    "    DF = pd.to_datetime(df['created_at']).dt.floor('min')\n",
    "    max_date = DF.max()\n",
    "    DF = pd.to_datetime(DF.loc[DF < max_date])\n",
    "    DF = DF.sort_index().value_counts()    \n",
    "    data = {'date': DF.index, 'freq': DF.values}\n",
    "    data = pd.DataFrame(data).sort_values('date')\n",
    "    return data\n"
   ]
  },
  {
   "cell_type": "code",
   "execution_count": null,
   "metadata": {
    "ExecuteTime": {
     "end_time": "2019-10-27T02:02:47.323124Z",
     "start_time": "2019-10-27T02:02:45.661339Z"
    },
    "pycharm": {
     "is_executing": false
    }
   },
   "outputs": [],
   "source": [
    "data = getDf2plot(direction)"
   ]
  },
  {
   "cell_type": "code",
   "execution_count": null,
   "metadata": {
    "ExecuteTime": {
     "end_time": "2019-10-27T01:53:14.944006Z",
     "start_time": "2019-10-27T01:53:14.923339Z"
    },
    "scrolled": false,
    "pycharm": {
     "is_executing": false
    }
   },
   "outputs": [],
   "source": [
    "DF.sort_values().value_counts()"
   ]
  },
  {
   "cell_type": "code",
   "execution_count": null,
   "metadata": {
    "pycharm": {
     "is_executing": false
    }
   },
   "outputs": [],
   "source": []
  },
  {
   "cell_type": "code",
   "execution_count": null,
   "metadata": {
    "ExecuteTime": {
     "end_time": "2019-10-27T02:48:06.061251Z",
     "start_time": "2019-10-27T02:48:05.555089Z"
    },
    "pycharm": {
     "is_executing": false
    }
   },
   "outputs": [],
   "source": [
    "df.sort_values('created_at')"
   ]
  },
  {
   "cell_type": "code",
   "execution_count": null,
   "metadata": {
    "ExecuteTime": {
     "end_time": "2019-10-27T02:40:06.610400Z",
     "start_time": "2019-10-27T02:40:06.319558Z"
    },
    "pycharm": {
     "is_executing": false
    }
   },
   "outputs": [],
   "source": [
    "df[df['text'].str.contains('terminar')]"
   ]
  },
  {
   "cell_type": "code",
   "execution_count": null,
   "metadata": {
    "ExecuteTime": {
     "end_time": "2019-10-27T02:41:04.218782Z",
     "start_time": "2019-10-27T02:41:04.213675Z"
    },
    "pycharm": {
     "is_executing": false
    }
   },
   "outputs": [],
   "source": [
    "key_words = get_keywords()"
   ]
  },
  {
   "cell_type": "code",
   "execution_count": null,
   "metadata": {
    "ExecuteTime": {
     "end_time": "2019-10-27T02:42:24.593675Z",
     "start_time": "2019-10-27T02:42:24.419124Z"
    },
    "pycharm": {
     "is_executing": false
    }
   },
   "outputs": [],
   "source": [
    "df[df['text'].str.contains(key_words[0])].index"
   ]
  },
  {
   "cell_type": "code",
   "execution_count": null,
   "metadata": {
    "ExecuteTime": {
     "end_time": "2019-10-27T02:45:43.016383Z",
     "start_time": "2019-10-27T02:45:30.359955Z"
    },
    "pycharm": {
     "is_executing": false
    }
   },
   "outputs": [],
   "source": [
    "KWdic = {key_words[i]: df[df['text'].str.contains(key_words[i])].index for i in range(len(key_words))}"
   ]
  },
  {
   "cell_type": "code",
   "execution_count": null,
   "metadata": {
    "ExecuteTime": {
     "end_time": "2019-10-27T02:47:11.335926Z",
     "start_time": "2019-10-27T02:47:11.330172Z"
    },
    "scrolled": true,
    "pycharm": {
     "is_executing": false
    }
   },
   "outputs": [],
   "source": [
    "def get_KWdic(df):\n",
    "    '''\n",
    "    devuelve un diccionario con los índices del df que tienen la palabra\n",
    "    '''\n",
    "    return {key_words[i]: df[df['text'].str.contains(key_words[i])].index for i in range(len(key_words))}"
   ]
  },
  {
   "cell_type": "code",
   "execution_count": null,
   "metadata": {
    "ExecuteTime": {
     "end_time": "2019-10-27T02:47:32.673096Z",
     "start_time": "2019-10-27T02:47:20.066186Z"
    },
    "pycharm": {
     "is_executing": false
    }
   },
   "outputs": [],
   "source": [
    "get_KWdic(df)"
   ]
  },
  {
   "cell_type": "code",
   "execution_count": 12,
   "metadata": {
    "pycharm": {
     "is_executing": false
    }
   },
   "outputs": [],
   "source": [
    "from utils import read_mongo"
   ]
  },
  {
   "cell_type": "code",
   "execution_count": 13,
   "outputs": [
    {
     "data": {
      "text/plain": "                       created_at                   id               id_str  \\\n0  Mon Oct 28 04:12:21 +0000 2019  1188669809778745344  1188669809778745344   \n1  Mon Oct 28 04:12:21 +0000 2019  1188669810504323072  1188669810504323072   \n2  Mon Oct 28 04:12:21 +0000 2019  1188669810512670728  1188669810512670728   \n3  Mon Oct 28 04:12:21 +0000 2019  1188669810554626048  1188669810554626048   \n4  Mon Oct 28 04:12:21 +0000 2019  1188669810592407557  1188669810592407557   \n\n                                                text display_text_range  \\\n0  José Ramiro Bermúdez, alcalde del Distrito de ...            [0, 78]   \n1  RT @toyhartas: Kicillof diciéndole a Cristina ...                NaN   \n2                                 Jajajajajajajajaja                NaN   \n3  RT @diazpol: En Argentina la suerte está echad...                NaN   \n4  @alferdez @LulaOficial Hola si, este salame es...           [23, 60]   \n\n                                              source  truncated  \\\n0  <a href=\"http://publicize.wp.com/\" rel=\"nofoll...      False   \n1  <a href=\"http://twitter.com/download/android\" ...      False   \n2  <a href=\"http://twitter.com/download/android\" ...      False   \n3  <a href=\"http://twitter.com/download/iphone\" r...      False   \n4  <a href=\"http://twitter.com/download/iphone\" r...      False   \n\n   in_reply_to_status_id in_reply_to_status_id_str  in_reply_to_user_id  ...  \\\n0                    NaN                      None                  NaN  ...   \n1                    NaN                      None                  NaN  ...   \n2                    NaN                      None                  NaN  ...   \n3                    NaN                      None                  NaN  ...   \n4           1.188530e+18       1188529944491708417          149991703.0  ...   \n\n  filter_level lang   timestamp_ms hash_tags  \\\n0          low   es  1572235941725        []   \n1          low   es  1572235941898        []   \n2          low   es  1572235941900        []   \n3          low   es  1572235941910        []   \n4          low   es  1572235941919        []   \n\n                                    retweeted_status quoted_status_id  \\\n0                                                NaN              NaN   \n1  {'created_at': 'Mon Oct 28 01:49:33 +0000 2019...              NaN   \n2                                                NaN     1.188662e+18   \n3  {'created_at': 'Sun Oct 27 21:59:43 +0000 2019...              NaN   \n4                                                NaN              NaN   \n\n  quoted_status_id_str                                      quoted_status  \\\n0                  NaN                                                NaN   \n1                  NaN                                                NaN   \n2  1188662128896626688  {'created_at': 'Mon Oct 28 03:41:50 +0000 2019...   \n3                  NaN                                                NaN   \n4                  NaN                                                NaN   \n\n                             quoted_status_permalink  extended_tweet  \n0                                                NaN             NaN  \n1                                                NaN             NaN  \n2  {'url': 'https://t.co/VhGk2iufmx', 'expanded':...             NaN  \n3                                                NaN             NaN  \n4                                                NaN             NaN  \n\n[5 rows x 37 columns]",
      "text/html": "<div>\n<style scoped>\n    .dataframe tbody tr th:only-of-type {\n        vertical-align: middle;\n    }\n\n    .dataframe tbody tr th {\n        vertical-align: top;\n    }\n\n    .dataframe thead th {\n        text-align: right;\n    }\n</style>\n<table border=\"1\" class=\"dataframe\">\n  <thead>\n    <tr style=\"text-align: right;\">\n      <th></th>\n      <th>created_at</th>\n      <th>id</th>\n      <th>id_str</th>\n      <th>text</th>\n      <th>display_text_range</th>\n      <th>source</th>\n      <th>truncated</th>\n      <th>in_reply_to_status_id</th>\n      <th>in_reply_to_status_id_str</th>\n      <th>in_reply_to_user_id</th>\n      <th>...</th>\n      <th>filter_level</th>\n      <th>lang</th>\n      <th>timestamp_ms</th>\n      <th>hash_tags</th>\n      <th>retweeted_status</th>\n      <th>quoted_status_id</th>\n      <th>quoted_status_id_str</th>\n      <th>quoted_status</th>\n      <th>quoted_status_permalink</th>\n      <th>extended_tweet</th>\n    </tr>\n  </thead>\n  <tbody>\n    <tr>\n      <td>0</td>\n      <td>Mon Oct 28 04:12:21 +0000 2019</td>\n      <td>1188669809778745344</td>\n      <td>1188669809778745344</td>\n      <td>José Ramiro Bermúdez, alcalde del Distrito de ...</td>\n      <td>[0, 78]</td>\n      <td>&lt;a href=\"http://publicize.wp.com/\" rel=\"nofoll...</td>\n      <td>False</td>\n      <td>NaN</td>\n      <td>None</td>\n      <td>NaN</td>\n      <td>...</td>\n      <td>low</td>\n      <td>es</td>\n      <td>1572235941725</td>\n      <td>[]</td>\n      <td>NaN</td>\n      <td>NaN</td>\n      <td>NaN</td>\n      <td>NaN</td>\n      <td>NaN</td>\n      <td>NaN</td>\n    </tr>\n    <tr>\n      <td>1</td>\n      <td>Mon Oct 28 04:12:21 +0000 2019</td>\n      <td>1188669810504323072</td>\n      <td>1188669810504323072</td>\n      <td>RT @toyhartas: Kicillof diciéndole a Cristina ...</td>\n      <td>NaN</td>\n      <td>&lt;a href=\"http://twitter.com/download/android\" ...</td>\n      <td>False</td>\n      <td>NaN</td>\n      <td>None</td>\n      <td>NaN</td>\n      <td>...</td>\n      <td>low</td>\n      <td>es</td>\n      <td>1572235941898</td>\n      <td>[]</td>\n      <td>{'created_at': 'Mon Oct 28 01:49:33 +0000 2019...</td>\n      <td>NaN</td>\n      <td>NaN</td>\n      <td>NaN</td>\n      <td>NaN</td>\n      <td>NaN</td>\n    </tr>\n    <tr>\n      <td>2</td>\n      <td>Mon Oct 28 04:12:21 +0000 2019</td>\n      <td>1188669810512670728</td>\n      <td>1188669810512670728</td>\n      <td>Jajajajajajajajaja</td>\n      <td>NaN</td>\n      <td>&lt;a href=\"http://twitter.com/download/android\" ...</td>\n      <td>False</td>\n      <td>NaN</td>\n      <td>None</td>\n      <td>NaN</td>\n      <td>...</td>\n      <td>low</td>\n      <td>es</td>\n      <td>1572235941900</td>\n      <td>[]</td>\n      <td>NaN</td>\n      <td>1.188662e+18</td>\n      <td>1188662128896626688</td>\n      <td>{'created_at': 'Mon Oct 28 03:41:50 +0000 2019...</td>\n      <td>{'url': 'https://t.co/VhGk2iufmx', 'expanded':...</td>\n      <td>NaN</td>\n    </tr>\n    <tr>\n      <td>3</td>\n      <td>Mon Oct 28 04:12:21 +0000 2019</td>\n      <td>1188669810554626048</td>\n      <td>1188669810554626048</td>\n      <td>RT @diazpol: En Argentina la suerte está echad...</td>\n      <td>NaN</td>\n      <td>&lt;a href=\"http://twitter.com/download/iphone\" r...</td>\n      <td>False</td>\n      <td>NaN</td>\n      <td>None</td>\n      <td>NaN</td>\n      <td>...</td>\n      <td>low</td>\n      <td>es</td>\n      <td>1572235941910</td>\n      <td>[]</td>\n      <td>{'created_at': 'Sun Oct 27 21:59:43 +0000 2019...</td>\n      <td>NaN</td>\n      <td>NaN</td>\n      <td>NaN</td>\n      <td>NaN</td>\n      <td>NaN</td>\n    </tr>\n    <tr>\n      <td>4</td>\n      <td>Mon Oct 28 04:12:21 +0000 2019</td>\n      <td>1188669810592407557</td>\n      <td>1188669810592407557</td>\n      <td>@alferdez @LulaOficial Hola si, este salame es...</td>\n      <td>[23, 60]</td>\n      <td>&lt;a href=\"http://twitter.com/download/iphone\" r...</td>\n      <td>False</td>\n      <td>1.188530e+18</td>\n      <td>1188529944491708417</td>\n      <td>149991703.0</td>\n      <td>...</td>\n      <td>low</td>\n      <td>es</td>\n      <td>1572235941919</td>\n      <td>[]</td>\n      <td>NaN</td>\n      <td>NaN</td>\n      <td>NaN</td>\n      <td>NaN</td>\n      <td>NaN</td>\n      <td>NaN</td>\n    </tr>\n  </tbody>\n</table>\n<p>5 rows × 37 columns</p>\n</div>"
     },
     "metadata": {},
     "output_type": "execute_result",
     "execution_count": 13
    }
   ],
   "source": [
    "df = read_mongo('dbTweets', 'tweets_chile')\n",
    "df.head()"
   ],
   "metadata": {
    "collapsed": false,
    "pycharm": {
     "name": "#%%\n",
     "is_executing": false
    }
   }
  },
  {
   "cell_type": "code",
   "execution_count": null,
   "outputs": [],
   "source": [
    "\n"
   ],
   "metadata": {
    "collapsed": false,
    "pycharm": {
     "name": "#%%\n"
    }
   }
  }
 ],
 "metadata": {
  "kernelspec": {
   "display_name": "Python 3",
   "language": "python",
   "name": "python3"
  },
  "language_info": {
   "codemirror_mode": {
    "name": "ipython",
    "version": 3
   },
   "file_extension": ".py",
   "mimetype": "text/x-python",
   "name": "python",
   "nbconvert_exporter": "python",
   "pygments_lexer": "ipython3",
   "version": "3.7.4"
  },
  "toc": {
   "base_numbering": 1,
   "nav_menu": {},
   "number_sections": true,
   "sideBar": true,
   "skip_h1_title": false,
   "title_cell": "Table of Contents",
   "title_sidebar": "Contents",
   "toc_cell": false,
   "toc_position": {},
   "toc_section_display": true,
   "toc_window_display": false
  },
  "pycharm": {
   "stem_cell": {
    "cell_type": "raw",
    "source": [],
    "metadata": {
     "collapsed": false
    }
   }
  }
 },
 "nbformat": 4,
 "nbformat_minor": 2
}