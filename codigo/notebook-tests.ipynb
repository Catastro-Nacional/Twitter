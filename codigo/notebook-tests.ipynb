{
 "cells": [
  {
   "cell_type": "code",
   "execution_count": 1,
   "metadata": {
    "ExecuteTime": {
     "end_time": "2019-10-27T01:43:56.166995Z",
     "start_time": "2019-10-27T01:43:48.552001Z"
    },
    "pycharm": {
     "is_executing": false
    }
   },
   "outputs": [],
   "source": [
    "%matplotlib notebook\n",
    "import matplotlib.pyplot as plt\n",
    "from main import get_keywords, get_searchWords\n",
    "import config\n",
    "import tweepy\n",
    "import pandas as pd\n",
    "# import seaborn as sb\n",
    "from datetime import timedelta"
   ]
  },
  {
   "cell_type": "code",
   "execution_count": 5,
   "metadata": {
    "ExecuteTime": {
     "end_time": "2019-10-26T20:38:09.749683Z",
     "start_time": "2019-10-26T20:38:09.743094Z"
    },
    "pycharm": {
     "is_executing": false
    }
   },
   "outputs": [],
   "source": [
    "# AUTH #\n",
    "auth = tweepy.OAuthHandler(config.CONSUMER_KEY, config.CONSUMER_SECRET)\n",
    "auth.set_access_token(config.ACCESS_TOKEN, config.ACCESS_TOKEN_SECRET)"
   ]
  },
  {
   "cell_type": "code",
   "execution_count": 6,
   "metadata": {
    "ExecuteTime": {
     "end_time": "2019-10-26T20:54:27.167735Z",
     "start_time": "2019-10-26T20:54:27.157761Z"
    },
    "pycharm": {
     "is_executing": false
    },
    "scrolled": true
   },
   "outputs": [],
   "source": [
    "# API #\n",
    "api = tweepy.API(auth)"
   ]
  },
  {
   "cell_type": "code",
   "execution_count": 7,
   "metadata": {
    "ExecuteTime": {
     "end_time": "2019-10-26T20:54:27.576814Z",
     "start_time": "2019-10-26T20:54:27.567526Z"
    },
    "pycharm": {
     "is_executing": false
    }
   },
   "outputs": [],
   "source": [
    "# Parametros de busqueda #\n",
    "search_words = get_searchWords()\n",
    "date_since = \"2019-10-16\""
   ]
  },
  {
   "cell_type": "code",
   "execution_count": 8,
   "metadata": {
    "ExecuteTime": {
     "end_time": "2019-10-26T20:54:27.810189Z",
     "start_time": "2019-10-26T20:54:27.800999Z"
    },
    "pycharm": {
     "is_executing": false
    }
   },
   "outputs": [],
   "source": [
    "# CURSOR #\n",
    "tweets = tweepy.Cursor(api.search,\n",
    "                        q=search_words,\n",
    "                        lang='es',\n",
    "                        since=date_since).items(500)"
   ]
  },
  {
   "cell_type": "code",
   "execution_count": 9,
   "metadata": {
    "ExecuteTime": {
     "end_time": "2019-10-26T20:55:39.814471Z",
     "start_time": "2019-10-26T20:54:28.054880Z"
    },
    "pycharm": {
     "is_executing": false
    }
   },
   "outputs": [
    {
     "ename": "NameError",
     "evalue": "name 'get_usermentions' is not defined",
     "output_type": "error",
     "traceback": [
      "\u001b[0;31m---------------------------------------------------------------------------\u001b[0m",
      "\u001b[0;31mNameError\u001b[0m                                 Traceback (most recent call last)",
      "\u001b[0;32m<ipython-input-9-e72e8d0cd050>\u001b[0m in \u001b[0;36m<module>\u001b[0;34m\u001b[0m\n\u001b[1;32m      2\u001b[0m \u001b[0mtweets_list\u001b[0m \u001b[0;34m=\u001b[0m \u001b[0;34m[\u001b[0m\u001b[0mtweet\u001b[0m \u001b[0;32mfor\u001b[0m \u001b[0mtweet\u001b[0m \u001b[0;32min\u001b[0m \u001b[0mtweets\u001b[0m\u001b[0;34m]\u001b[0m\u001b[0;34m\u001b[0m\u001b[0;34m\u001b[0m\u001b[0m\n\u001b[1;32m      3\u001b[0m \u001b[0;34m\u001b[0m\u001b[0m\n\u001b[0;32m----> 4\u001b[0;31m \u001b[0musers_locs\u001b[0m \u001b[0;34m=\u001b[0m \u001b[0;34m[\u001b[0m\u001b[0;34m[\u001b[0m\u001b[0mh\u001b[0m\u001b[0;34m.\u001b[0m\u001b[0mcreated_at\u001b[0m\u001b[0;34m,\u001b[0m \u001b[0mh\u001b[0m\u001b[0;34m.\u001b[0m\u001b[0muser\u001b[0m\u001b[0;34m.\u001b[0m\u001b[0mscreen_name\u001b[0m\u001b[0;34m,\u001b[0m \u001b[0mget_usermentions\u001b[0m\u001b[0;34m(\u001b[0m\u001b[0mh\u001b[0m\u001b[0;34m)\u001b[0m\u001b[0;34m,\u001b[0m \u001b[0mget_hashtags\u001b[0m\u001b[0;34m(\u001b[0m\u001b[0mh\u001b[0m\u001b[0;34m)\u001b[0m\u001b[0;34m,\u001b[0m \u001b[0mh\u001b[0m\u001b[0;34m.\u001b[0m\u001b[0muser\u001b[0m\u001b[0;34m.\u001b[0m\u001b[0mlocation\u001b[0m\u001b[0;34m]\u001b[0m \u001b[0;32mfor\u001b[0m \u001b[0mh\u001b[0m \u001b[0;32min\u001b[0m \u001b[0mtweets_list\u001b[0m\u001b[0;34m]\u001b[0m\u001b[0;34m\u001b[0m\u001b[0;34m\u001b[0m\u001b[0m\n\u001b[0m\u001b[1;32m      5\u001b[0m \u001b[0;34m\u001b[0m\u001b[0m\n",
      "\u001b[0;32m<ipython-input-9-e72e8d0cd050>\u001b[0m in \u001b[0;36m<listcomp>\u001b[0;34m(.0)\u001b[0m\n\u001b[1;32m      2\u001b[0m \u001b[0mtweets_list\u001b[0m \u001b[0;34m=\u001b[0m \u001b[0;34m[\u001b[0m\u001b[0mtweet\u001b[0m \u001b[0;32mfor\u001b[0m \u001b[0mtweet\u001b[0m \u001b[0;32min\u001b[0m \u001b[0mtweets\u001b[0m\u001b[0;34m]\u001b[0m\u001b[0;34m\u001b[0m\u001b[0;34m\u001b[0m\u001b[0m\n\u001b[1;32m      3\u001b[0m \u001b[0;34m\u001b[0m\u001b[0m\n\u001b[0;32m----> 4\u001b[0;31m \u001b[0musers_locs\u001b[0m \u001b[0;34m=\u001b[0m \u001b[0;34m[\u001b[0m\u001b[0;34m[\u001b[0m\u001b[0mh\u001b[0m\u001b[0;34m.\u001b[0m\u001b[0mcreated_at\u001b[0m\u001b[0;34m,\u001b[0m \u001b[0mh\u001b[0m\u001b[0;34m.\u001b[0m\u001b[0muser\u001b[0m\u001b[0;34m.\u001b[0m\u001b[0mscreen_name\u001b[0m\u001b[0;34m,\u001b[0m \u001b[0mget_usermentions\u001b[0m\u001b[0;34m(\u001b[0m\u001b[0mh\u001b[0m\u001b[0;34m)\u001b[0m\u001b[0;34m,\u001b[0m \u001b[0mget_hashtags\u001b[0m\u001b[0;34m(\u001b[0m\u001b[0mh\u001b[0m\u001b[0;34m)\u001b[0m\u001b[0;34m,\u001b[0m \u001b[0mh\u001b[0m\u001b[0;34m.\u001b[0m\u001b[0muser\u001b[0m\u001b[0;34m.\u001b[0m\u001b[0mlocation\u001b[0m\u001b[0;34m]\u001b[0m \u001b[0;32mfor\u001b[0m \u001b[0mh\u001b[0m \u001b[0;32min\u001b[0m \u001b[0mtweets_list\u001b[0m\u001b[0;34m]\u001b[0m\u001b[0;34m\u001b[0m\u001b[0;34m\u001b[0m\u001b[0m\n\u001b[0m\u001b[1;32m      5\u001b[0m \u001b[0;34m\u001b[0m\u001b[0m\n",
      "\u001b[0;31mNameError\u001b[0m: name 'get_usermentions' is not defined"
     ]
    }
   ],
   "source": [
    "# PROCESSING #\n",
    "tweets_list = [tweet for tweet in tweets]\n",
    "\n",
    "users_locs = [[h.created_at, h.user.screen_name, get_usermentions(h), get_hashtags(h), h.user.location] for h in tweets_list]"
   ]
  },
  {
   "cell_type": "code",
   "execution_count": null,
   "metadata": {
    "ExecuteTime": {
     "end_time": "2019-10-26T20:55:39.836098Z",
     "start_time": "2019-10-26T20:55:39.817198Z"
    },
    "pycharm": {
     "is_executing": false
    }
   },
   "outputs": [],
   "source": [
    "# DATAFRAME #\n",
    "twitter_df = pd.DataFrame(data=users_locs,\n",
    "                              columns=['time', 'user', 'user_mentions', 'hashtags', \"location\"])\n",
    "twitter_df['time'] += timedelta(hours=-3)"
   ]
  },
  {
   "cell_type": "code",
   "execution_count": null,
   "metadata": {
    "ExecuteTime": {
     "end_time": "2019-10-27T01:44:54.561347Z",
     "start_time": "2019-10-27T01:44:53.076248Z"
    },
    "pycharm": {
     "is_executing": false
    }
   },
   "outputs": [],
   "source": [
    "df = pd.read_csv('./OutputStreaming_20191026-191509.csv')"
   ]
  },
  {
   "cell_type": "markdown",
   "metadata": {},
   "source": [
    "# plotly"
   ]
  },
  {
   "cell_type": "code",
   "execution_count": null,
   "metadata": {
    "ExecuteTime": {
     "end_time": "2019-10-27T01:44:54.582607Z",
     "start_time": "2019-10-27T01:44:54.565216Z"
    },
    "pycharm": {
     "is_executing": false
    }
   },
   "outputs": [],
   "source": [
    "import plotly\n",
    "import chart_studio\n",
    "import plotly.graph_objects as go\n",
    "import plotly.io as pio"
   ]
  },
  {
   "cell_type": "code",
   "execution_count": null,
   "metadata": {
    "ExecuteTime": {
     "end_time": "2019-10-27T01:44:54.703614Z",
     "start_time": "2019-10-27T01:44:54.594761Z"
    },
    "pycharm": {
     "is_executing": false
    }
   },
   "outputs": [],
   "source": [
    "df['created_at'].value_counts().sort_index()"
   ]
  },
  {
   "cell_type": "code",
   "execution_count": null,
   "metadata": {
    "ExecuteTime": {
     "end_time": "2019-10-27T01:44:57.274940Z",
     "start_time": "2019-10-27T01:44:57.020085Z"
    },
    "pycharm": {
     "is_executing": false
    },
    "scrolled": false
   },
   "outputs": [],
   "source": [
    "data = [go.Scatter(x=df['created_at'].unique(), y=df['created_at'].value_counts().sort_index() )]\n",
    "fig = go.Figure(data)\n",
    "fig.show()"
   ]
  },
  {
   "cell_type": "code",
   "execution_count": null,
   "metadata": {
    "ExecuteTime": {
     "end_time": "2019-10-27T01:49:20.351705Z",
     "start_time": "2019-10-27T01:49:20.283735Z"
    },
    "pycharm": {
     "is_executing": false
    }
   },
   "outputs": [],
   "source": [
    "DF=pd.to_datetime(df['created_at'])\n",
    "DF.head()"
   ]
  },
  {
   "cell_type": "code",
   "execution_count": null,
   "metadata": {
    "ExecuteTime": {
     "end_time": "2019-10-27T01:50:00.246522Z",
     "start_time": "2019-10-27T01:50:00.231514Z"
    },
    "pycharm": {
     "is_executing": false
    }
   },
   "outputs": [],
   "source": [
    "DF = DF.dt.floor('min')\n",
    "DF.head()"
   ]
  },
  {
   "cell_type": "code",
   "execution_count": null,
   "metadata": {
    "ExecuteTime": {
     "end_time": "2019-10-27T01:53:05.665870Z",
     "start_time": "2019-10-27T01:53:05.655895Z"
    },
    "pycharm": {
     "is_executing": false
    }
   },
   "outputs": [],
   "source": [
    "unique_time=pd.to_datetime(DF.unique())\n",
    "unique_time.__len__()"
   ]
  },
  {
   "cell_type": "code",
   "execution_count": null,
   "metadata": {
    "ExecuteTime": {
     "end_time": "2019-10-27T01:50:59.581949Z",
     "start_time": "2019-10-27T01:50:59.575663Z"
    },
    "pycharm": {
     "is_executing": false
    }
   },
   "outputs": [],
   "source": [
    "max_date=unique_time.max()\n",
    "max_date"
   ]
  },
  {
   "cell_type": "code",
   "execution_count": null,
   "metadata": {
    "ExecuteTime": {
     "end_time": "2019-10-27T01:55:56.847893Z",
     "start_time": "2019-10-27T01:55:56.841359Z"
    },
    "pycharm": {
     "is_executing": false
    }
   },
   "outputs": [],
   "source": [
    "direction = './OutputStreaming_20191026-191509.csv'"
   ]
  },
  {
   "cell_type": "code",
   "execution_count": null,
   "metadata": {
    "ExecuteTime": {
     "end_time": "2019-10-27T02:02:45.372034Z",
     "start_time": "2019-10-27T02:02:45.359102Z"
    },
    "pycharm": {
     "is_executing": false
    }
   },
   "outputs": [],
   "source": [
    "import time\n",
    "def getDf2plot(direction):\n",
    "    df = pd.read_csv(direction)\n",
    "    DF = pd.to_datetime(df['created_at']).dt.floor('min')\n",
    "    max_date = DF.max()\n",
    "    DF = pd.to_datetime(DF.loc[DF < max_date])\n",
    "    DF = DF.sort_index().value_counts()    \n",
    "    data = {'date': DF.index, 'freq': DF.values}\n",
    "    data = pd.DataFrame(data).sort_values('date')\n",
    "    return data\n"
   ]
  },
  {
   "cell_type": "code",
   "execution_count": null,
   "metadata": {
    "ExecuteTime": {
     "end_time": "2019-10-27T02:02:47.323124Z",
     "start_time": "2019-10-27T02:02:45.661339Z"
    },
    "pycharm": {
     "is_executing": false
    }
   },
   "outputs": [],
   "source": [
    "data = getDf2plot(direction)"
   ]
  },
  {
   "cell_type": "code",
   "execution_count": null,
   "metadata": {
    "ExecuteTime": {
     "end_time": "2019-10-27T01:53:14.944006Z",
     "start_time": "2019-10-27T01:53:14.923339Z"
    },
    "pycharm": {
     "is_executing": false
    },
    "scrolled": false
   },
   "outputs": [],
   "source": [
    "DF.sort_values().value_counts()"
   ]
  },
  {
   "cell_type": "code",
   "execution_count": null,
   "metadata": {
    "pycharm": {
     "is_executing": false
    }
   },
   "outputs": [],
   "source": []
  },
  {
   "cell_type": "code",
   "execution_count": null,
   "metadata": {
    "ExecuteTime": {
     "end_time": "2019-10-27T02:48:06.061251Z",
     "start_time": "2019-10-27T02:48:05.555089Z"
    },
    "pycharm": {
     "is_executing": false
    }
   },
   "outputs": [],
   "source": [
    "df.sort_values('created_at')"
   ]
  },
  {
   "cell_type": "code",
   "execution_count": null,
   "metadata": {
    "ExecuteTime": {
     "end_time": "2019-10-27T02:40:06.610400Z",
     "start_time": "2019-10-27T02:40:06.319558Z"
    },
    "pycharm": {
     "is_executing": false
    }
   },
   "outputs": [],
   "source": [
    "df[df['text'].str.contains('terminar')]"
   ]
  },
  {
   "cell_type": "code",
   "execution_count": null,
   "metadata": {
    "ExecuteTime": {
     "end_time": "2019-10-27T02:41:04.218782Z",
     "start_time": "2019-10-27T02:41:04.213675Z"
    },
    "pycharm": {
     "is_executing": false
    }
   },
   "outputs": [],
   "source": [
    "key_words = get_keywords()"
   ]
  },
  {
   "cell_type": "code",
   "execution_count": null,
   "metadata": {
    "ExecuteTime": {
     "end_time": "2019-10-27T02:42:24.593675Z",
     "start_time": "2019-10-27T02:42:24.419124Z"
    },
    "pycharm": {
     "is_executing": false
    }
   },
   "outputs": [],
   "source": [
    "df[df['text'].str.contains(key_words[0])].index"
   ]
  },
  {
   "cell_type": "code",
   "execution_count": null,
   "metadata": {
    "ExecuteTime": {
     "end_time": "2019-10-27T02:45:43.016383Z",
     "start_time": "2019-10-27T02:45:30.359955Z"
    },
    "pycharm": {
     "is_executing": false
    }
   },
   "outputs": [],
   "source": [
    "KWdic = {key_words[i]: df[df['text'].str.contains(key_words[i])].index for i in range(len(key_words))}"
   ]
  },
  {
   "cell_type": "code",
   "execution_count": null,
   "metadata": {
    "ExecuteTime": {
     "end_time": "2019-10-27T02:47:11.335926Z",
     "start_time": "2019-10-27T02:47:11.330172Z"
    },
    "pycharm": {
     "is_executing": false
    },
    "scrolled": true
   },
   "outputs": [],
   "source": [
    "def get_KWdic(df):\n",
    "    '''\n",
    "    devuelve un diccionario con los índices del df que tienen la palabra\n",
    "    '''\n",
    "    return {key_words[i]: df[df['text'].str.contains(key_words[i])].index for i in range(len(key_words))}"
   ]
  },
  {
   "cell_type": "code",
   "execution_count": null,
   "metadata": {
    "ExecuteTime": {
     "end_time": "2019-10-27T02:47:32.673096Z",
     "start_time": "2019-10-27T02:47:20.066186Z"
    },
    "pycharm": {
     "is_executing": false
    }
   },
   "outputs": [],
   "source": [
    "get_KWdic(df)"
   ]
  },
  {
   "cell_type": "code",
   "execution_count": 3,
   "metadata": {
    "pycharm": {
     "is_executing": false
    }
   },
   "outputs": [],
   "source": [
    "from utils import read_mongo"
   ]
  },
  {
   "cell_type": "code",
   "execution_count": 4,
   "metadata": {
    "pycharm": {
     "is_executing": false,
     "name": "#%%\n"
    }
   },
   "outputs": [
    {
     "data": {
      "text/html": [
       "<div>\n",
       "<style scoped>\n",
       "    .dataframe tbody tr th:only-of-type {\n",
       "        vertical-align: middle;\n",
       "    }\n",
       "\n",
       "    .dataframe tbody tr th {\n",
       "        vertical-align: top;\n",
       "    }\n",
       "\n",
       "    .dataframe thead th {\n",
       "        text-align: right;\n",
       "    }\n",
       "</style>\n",
       "<table border=\"1\" class=\"dataframe\">\n",
       "  <thead>\n",
       "    <tr style=\"text-align: right;\">\n",
       "      <th></th>\n",
       "      <th>dateTweet</th>\n",
       "      <th>tweet</th>\n",
       "      <th>screenName</th>\n",
       "      <th>name</th>\n",
       "      <th>user_url</th>\n",
       "      <th>description</th>\n",
       "      <th>location</th>\n",
       "      <th>verified</th>\n",
       "      <th>geoEnabled</th>\n",
       "      <th>hash_tags</th>\n",
       "    </tr>\n",
       "  </thead>\n",
       "  <tbody>\n",
       "    <tr>\n",
       "      <th>0</th>\n",
       "      <td>2019-10-30 22:31:17.999996</td>\n",
       "      <td>@AlvaroUribeVel Disculpe Mi presidente, lo mej...</td>\n",
       "      <td>2mil_lobos</td>\n",
       "      <td>Milton Villalobos Bernal</td>\n",
       "      <td>None</td>\n",
       "      <td>Ingeniero Civil de la U Catolica de Colombia 🇨🇴</td>\n",
       "      <td>Bogotá, D.C., Colombia</td>\n",
       "      <td>False</td>\n",
       "      <td>False</td>\n",
       "      <td>[]</td>\n",
       "    </tr>\n",
       "    <tr>\n",
       "      <th>1</th>\n",
       "      <td>2019-10-30 22:31:17.999991</td>\n",
       "      <td>RT @Grone69: Dónde quedó el supuesto \"Líder de...</td>\n",
       "      <td>mareceta</td>\n",
       "      <td>Mari</td>\n",
       "      <td>None</td>\n",
       "      <td>Blabla</td>\n",
       "      <td>None</td>\n",
       "      <td>False</td>\n",
       "      <td>False</td>\n",
       "      <td>[]</td>\n",
       "    </tr>\n",
       "    <tr>\n",
       "      <th>2</th>\n",
       "      <td>2019-10-30 22:31:17.999990</td>\n",
       "      <td>RT @DayaniraTorres7: Brasil Vinculan a #Bolson...</td>\n",
       "      <td>Lorenadpc</td>\n",
       "      <td>LoLô</td>\n",
       "      <td>http://mananciasdaserrapr.blogspot.com</td>\n",
       "      <td>Historiadora ambiental e professora de Históri...</td>\n",
       "      <td>Curitiba, Paraná</td>\n",
       "      <td>False</td>\n",
       "      <td>True</td>\n",
       "      <td>[Bolsonaro]</td>\n",
       "    </tr>\n",
       "    <tr>\n",
       "      <th>3</th>\n",
       "      <td>2019-10-30 22:31:17.999997</td>\n",
       "      <td>RT @marianokestel: El gobierno de Menem y De l...</td>\n",
       "      <td>IPSQL07</td>\n",
       "      <td>IPSQL07</td>\n",
       "      <td>None</td>\n",
       "      <td>None</td>\n",
       "      <td>None</td>\n",
       "      <td>False</td>\n",
       "      <td>False</td>\n",
       "      <td>[]</td>\n",
       "    </tr>\n",
       "    <tr>\n",
       "      <th>4</th>\n",
       "      <td>2019-10-30 22:31:17.999977</td>\n",
       "      <td>RT @z_matkovic: Qué conveniente... https://t.c...</td>\n",
       "      <td>Klau_Osi</td>\n",
       "      <td>Klau Osi</td>\n",
       "      <td>None</td>\n",
       "      <td>None</td>\n",
       "      <td>Bolivia</td>\n",
       "      <td>False</td>\n",
       "      <td>False</td>\n",
       "      <td>[]</td>\n",
       "    </tr>\n",
       "  </tbody>\n",
       "</table>\n",
       "</div>"
      ],
      "text/plain": [
       "                    dateTweet  \\\n",
       "0  2019-10-30 22:31:17.999996   \n",
       "1  2019-10-30 22:31:17.999991   \n",
       "2  2019-10-30 22:31:17.999990   \n",
       "3  2019-10-30 22:31:17.999997   \n",
       "4  2019-10-30 22:31:17.999977   \n",
       "\n",
       "                                               tweet  screenName  \\\n",
       "0  @AlvaroUribeVel Disculpe Mi presidente, lo mej...  2mil_lobos   \n",
       "1  RT @Grone69: Dónde quedó el supuesto \"Líder de...    mareceta   \n",
       "2  RT @DayaniraTorres7: Brasil Vinculan a #Bolson...   Lorenadpc   \n",
       "3  RT @marianokestel: El gobierno de Menem y De l...     IPSQL07   \n",
       "4  RT @z_matkovic: Qué conveniente... https://t.c...    Klau_Osi   \n",
       "\n",
       "                       name                                user_url  \\\n",
       "0  Milton Villalobos Bernal                                    None   \n",
       "1                      Mari                                    None   \n",
       "2                      LoLô  http://mananciasdaserrapr.blogspot.com   \n",
       "3                   IPSQL07                                    None   \n",
       "4                  Klau Osi                                    None   \n",
       "\n",
       "                                         description                location  \\\n",
       "0    Ingeniero Civil de la U Catolica de Colombia 🇨🇴  Bogotá, D.C., Colombia   \n",
       "1                                             Blabla                    None   \n",
       "2  Historiadora ambiental e professora de Históri...        Curitiba, Paraná   \n",
       "3                                               None                    None   \n",
       "4                                               None                 Bolivia   \n",
       "\n",
       "   verified  geoEnabled    hash_tags  \n",
       "0     False       False           []  \n",
       "1     False       False           []  \n",
       "2     False        True  [Bolsonaro]  \n",
       "3     False       False           []  \n",
       "4     False       False           []  "
      ]
     },
     "execution_count": 4,
     "metadata": {},
     "output_type": "execute_result"
    }
   ],
   "source": [
    "df = read_mongo('dbTweets', 'tweets_chile')\n",
    "df.head()"
   ]
  },
  {
   "cell_type": "code",
   "execution_count": 5,
   "metadata": {
    "pycharm": {
     "name": "#%%\n"
    }
   },
   "outputs": [],
   "source": [
    "from utils import parse_tweet, read_mongo\n",
    "import pandas as pd"
   ]
  },
  {
   "cell_type": "code",
   "execution_count": 2,
   "metadata": {},
   "outputs": [],
   "source": [
    "csv_1 = pd.read_csv('OutputStreaming_20191027-141746.csv')\n",
    "csv_2 = pd.read_csv('OutputStreaming_20191030-210028.csv')"
   ]
  },
  {
   "cell_type": "code",
   "execution_count": 3,
   "metadata": {},
   "outputs": [
    {
     "data": {
      "text/html": [
       "<div>\n",
       "<style scoped>\n",
       "    .dataframe tbody tr th:only-of-type {\n",
       "        vertical-align: middle;\n",
       "    }\n",
       "\n",
       "    .dataframe tbody tr th {\n",
       "        vertical-align: top;\n",
       "    }\n",
       "\n",
       "    .dataframe thead th {\n",
       "        text-align: right;\n",
       "    }\n",
       "</style>\n",
       "<table border=\"1\" class=\"dataframe\">\n",
       "  <thead>\n",
       "    <tr style=\"text-align: right;\">\n",
       "      <th></th>\n",
       "      <th>text</th>\n",
       "      <th>created_at</th>\n",
       "      <th>geo</th>\n",
       "      <th>lang</th>\n",
       "      <th>place</th>\n",
       "      <th>user.favourites_count</th>\n",
       "      <th>user.statuses_count</th>\n",
       "      <th>user.description</th>\n",
       "      <th>user.location</th>\n",
       "      <th>user.id</th>\n",
       "      <th>user.created_at</th>\n",
       "      <th>user.verified</th>\n",
       "      <th>user.url</th>\n",
       "      <th>user.listed_count</th>\n",
       "      <th>user.friends_count</th>\n",
       "      <th>user.name</th>\n",
       "      <th>user.screen_name</th>\n",
       "      <th>user.geo_enabled</th>\n",
       "      <th>id</th>\n",
       "      <th>favorite_count</th>\n",
       "      <th>retweeted</th>\n",
       "      <th>source</th>\n",
       "      <th>favorited</th>\n",
       "      <th>retweet_count</th>\n",
       "    </tr>\n",
       "  </thead>\n",
       "  <tbody>\n",
       "    <tr>\n",
       "      <td>0</td>\n",
       "      <td>RT @Javier_Torrox: 3. Los actores políticos es...</td>\n",
       "      <td>2019-10-27 20:17:42</td>\n",
       "      <td>NaN</td>\n",
       "      <td>es</td>\n",
       "      <td>NaN</td>\n",
       "      <td>104468</td>\n",
       "      <td>107294</td>\n",
       "      <td>NaN</td>\n",
       "      <td>NaN</td>\n",
       "      <td>871885413086105602</td>\n",
       "      <td>2017-06-06 00:24:16</td>\n",
       "      <td>False</td>\n",
       "      <td>NaN</td>\n",
       "      <td>0</td>\n",
       "      <td>208</td>\n",
       "      <td>A. Merino Heerze</td>\n",
       "      <td>a_heerze</td>\n",
       "      <td>False</td>\n",
       "      <td>1188505060164145152</td>\n",
       "      <td>0</td>\n",
       "      <td>False</td>\n",
       "      <td>Twitter for iPhone</td>\n",
       "      <td>False</td>\n",
       "      <td>0</td>\n",
       "    </tr>\n",
       "    <tr>\n",
       "      <td>1</td>\n",
       "      <td>RT @cbuteler: Quien habla primero hoy después ...</td>\n",
       "      <td>2019-10-27 20:17:42</td>\n",
       "      <td>NaN</td>\n",
       "      <td>es</td>\n",
       "      <td>NaN</td>\n",
       "      <td>39488</td>\n",
       "      <td>27615</td>\n",
       "      <td>Decir todo lo que pienso... políticamente inco...</td>\n",
       "      <td>CABA</td>\n",
       "      <td>1839615174</td>\n",
       "      <td>2013-09-09 04:54:58</td>\n",
       "      <td>False</td>\n",
       "      <td>NaN</td>\n",
       "      <td>0</td>\n",
       "      <td>246</td>\n",
       "      <td>Rebelde way by ...</td>\n",
       "      <td>ohhterre</td>\n",
       "      <td>False</td>\n",
       "      <td>1188505060298412032</td>\n",
       "      <td>0</td>\n",
       "      <td>False</td>\n",
       "      <td>Twitter Web App</td>\n",
       "      <td>False</td>\n",
       "      <td>0</td>\n",
       "    </tr>\n",
       "    <tr>\n",
       "      <td>2</td>\n",
       "      <td>RT @katyayguavella: Esta foto no es Venezuela,...</td>\n",
       "      <td>2019-10-27 20:17:42</td>\n",
       "      <td>NaN</td>\n",
       "      <td>es</td>\n",
       "      <td>NaN</td>\n",
       "      <td>9653</td>\n",
       "      <td>31535</td>\n",
       "      <td>Taurina \\nEstudiante de Contador Público en UN...</td>\n",
       "      <td>Santa Rosa, Argentina</td>\n",
       "      <td>369163667</td>\n",
       "      <td>2011-09-06 21:50:59</td>\n",
       "      <td>False</td>\n",
       "      <td>NaN</td>\n",
       "      <td>1</td>\n",
       "      <td>373</td>\n",
       "      <td>Delfiηa</td>\n",
       "      <td>DelfiC1</td>\n",
       "      <td>True</td>\n",
       "      <td>1188505060269002755</td>\n",
       "      <td>0</td>\n",
       "      <td>False</td>\n",
       "      <td>Twitter for Android</td>\n",
       "      <td>False</td>\n",
       "      <td>0</td>\n",
       "    </tr>\n",
       "    <tr>\n",
       "      <td>3</td>\n",
       "      <td>RT @AnonimoSV503: #ULTIMAHORA \\nEntonces los d...</td>\n",
       "      <td>2019-10-27 20:17:42</td>\n",
       "      <td>NaN</td>\n",
       "      <td>es</td>\n",
       "      <td>NaN</td>\n",
       "      <td>1125</td>\n",
       "      <td>500</td>\n",
       "      <td>🐼🐼🐱🐱🐱🐈🐈 soy el mismo me volvieron a bloquear l...</td>\n",
       "      <td>San Salvador, El Salvador</td>\n",
       "      <td>1187350868301156355</td>\n",
       "      <td>2019-10-24 12:51:32</td>\n",
       "      <td>False</td>\n",
       "      <td>NaN</td>\n",
       "      <td>0</td>\n",
       "      <td>701</td>\n",
       "      <td>Alexander</td>\n",
       "      <td>pereiraalex74</td>\n",
       "      <td>False</td>\n",
       "      <td>1188505060277473282</td>\n",
       "      <td>0</td>\n",
       "      <td>False</td>\n",
       "      <td>Twitter for Android</td>\n",
       "      <td>False</td>\n",
       "      <td>0</td>\n",
       "    </tr>\n",
       "    <tr>\n",
       "      <td>4</td>\n",
       "      <td>Si Daniel Quintero queda de alcalde en Medellí...</td>\n",
       "      <td>2019-10-27 20:17:42</td>\n",
       "      <td>NaN</td>\n",
       "      <td>es</td>\n",
       "      <td>NaN</td>\n",
       "      <td>3499</td>\n",
       "      <td>64397</td>\n",
       "      <td>International Business, Fashion, Sports.      ...</td>\n",
       "      <td>Colombia/Venezuela</td>\n",
       "      <td>149957795</td>\n",
       "      <td>2010-05-30 17:34:58</td>\n",
       "      <td>False</td>\n",
       "      <td>NaN</td>\n",
       "      <td>6</td>\n",
       "      <td>242</td>\n",
       "      <td>Grace</td>\n",
       "      <td>gracearrietag</td>\n",
       "      <td>True</td>\n",
       "      <td>1188505060617183232</td>\n",
       "      <td>0</td>\n",
       "      <td>False</td>\n",
       "      <td>Twitter for iPhone</td>\n",
       "      <td>False</td>\n",
       "      <td>0</td>\n",
       "    </tr>\n",
       "    <tr>\n",
       "      <td>...</td>\n",
       "      <td>...</td>\n",
       "      <td>...</td>\n",
       "      <td>...</td>\n",
       "      <td>...</td>\n",
       "      <td>...</td>\n",
       "      <td>...</td>\n",
       "      <td>...</td>\n",
       "      <td>...</td>\n",
       "      <td>...</td>\n",
       "      <td>...</td>\n",
       "      <td>...</td>\n",
       "      <td>...</td>\n",
       "      <td>...</td>\n",
       "      <td>...</td>\n",
       "      <td>...</td>\n",
       "      <td>...</td>\n",
       "      <td>...</td>\n",
       "      <td>...</td>\n",
       "      <td>...</td>\n",
       "      <td>...</td>\n",
       "      <td>...</td>\n",
       "      <td>...</td>\n",
       "      <td>...</td>\n",
       "      <td>...</td>\n",
       "    </tr>\n",
       "    <tr>\n",
       "      <td>284207</td>\n",
       "      <td>RT @jpeinan: Mientras tanto acá en Parque Ohig...</td>\n",
       "      <td>2019-10-27 21:52:28</td>\n",
       "      <td>NaN</td>\n",
       "      <td>es</td>\n",
       "      <td>NaN</td>\n",
       "      <td>1478</td>\n",
       "      <td>53731</td>\n",
       "      <td>#FightingGames Commentator 🕹️ #Menat lover 😍🔮 ...</td>\n",
       "      <td>Santiago, Chile</td>\n",
       "      <td>239920355</td>\n",
       "      <td>2011-01-18 18:57:32</td>\n",
       "      <td>False</td>\n",
       "      <td>https://www.youtube.com/pochoclo23</td>\n",
       "      <td>13</td>\n",
       "      <td>717</td>\n",
       "      <td>Boonster | Pochoclo23 🔮✨🎃</td>\n",
       "      <td>Pochoclo23</td>\n",
       "      <td>True</td>\n",
       "      <td>1188528911178698754</td>\n",
       "      <td>0</td>\n",
       "      <td>False</td>\n",
       "      <td>Twitter Web App</td>\n",
       "      <td>False</td>\n",
       "      <td>0</td>\n",
       "    </tr>\n",
       "    <tr>\n",
       "      <td>284208</td>\n",
       "      <td>RT @Claudiashein: El mensaje de @monlaferte Va...</td>\n",
       "      <td>2019-10-27 21:52:28</td>\n",
       "      <td>NaN</td>\n",
       "      <td>es</td>\n",
       "      <td>NaN</td>\n",
       "      <td>412</td>\n",
       "      <td>147</td>\n",
       "      <td>NaN</td>\n",
       "      <td>NaN</td>\n",
       "      <td>523302146</td>\n",
       "      <td>2012-03-13 14:14:23</td>\n",
       "      <td>False</td>\n",
       "      <td>NaN</td>\n",
       "      <td>0</td>\n",
       "      <td>163</td>\n",
       "      <td>Francisca Yañez Valle</td>\n",
       "      <td>Franyanezvalle</td>\n",
       "      <td>False</td>\n",
       "      <td>1188528911484891136</td>\n",
       "      <td>0</td>\n",
       "      <td>False</td>\n",
       "      <td>Twitter for Android</td>\n",
       "      <td>False</td>\n",
       "      <td>0</td>\n",
       "    </tr>\n",
       "    <tr>\n",
       "      <td>284209</td>\n",
       "      <td>Q lindo Male. Votamos por todos los q dia a di...</td>\n",
       "      <td>2019-10-27 21:52:28</td>\n",
       "      <td>NaN</td>\n",
       "      <td>es</td>\n",
       "      <td>Place(_api=None, id='011abdad7dddec83', url='h...</td>\n",
       "      <td>14996</td>\n",
       "      <td>57055</td>\n",
       "      <td>Llegó el día.</td>\n",
       "      <td>Bariloche</td>\n",
       "      <td>349448199</td>\n",
       "      <td>2011-08-06 03:32:49</td>\n",
       "      <td>False</td>\n",
       "      <td>NaN</td>\n",
       "      <td>7</td>\n",
       "      <td>5001</td>\n",
       "      <td>Boleta completa</td>\n",
       "      <td>digipancho</td>\n",
       "      <td>True</td>\n",
       "      <td>1188528911279370242</td>\n",
       "      <td>0</td>\n",
       "      <td>False</td>\n",
       "      <td>Twitter for Android</td>\n",
       "      <td>False</td>\n",
       "      <td>0</td>\n",
       "    </tr>\n",
       "    <tr>\n",
       "      <td>284210</td>\n",
       "      <td>RT @rmartinez_SW: @UNHumanRights @Yubisw Por f...</td>\n",
       "      <td>2019-10-27 21:52:28</td>\n",
       "      <td>NaN</td>\n",
       "      <td>es</td>\n",
       "      <td>NaN</td>\n",
       "      <td>87873</td>\n",
       "      <td>42136</td>\n",
       "      <td>#Yerin: A TU BALAZO, CACEROLAZO</td>\n",
       "      <td>She/Her - From Chile</td>\n",
       "      <td>1083221850191204352</td>\n",
       "      <td>2019-01-10 04:39:49</td>\n",
       "      <td>False</td>\n",
       "      <td>NaN</td>\n",
       "      <td>1</td>\n",
       "      <td>480</td>\n",
       "      <td>#NuevaConstitución</td>\n",
       "      <td>twoseokrin</td>\n",
       "      <td>False</td>\n",
       "      <td>1188528911522713600</td>\n",
       "      <td>0</td>\n",
       "      <td>False</td>\n",
       "      <td>Twitter for iPhone</td>\n",
       "      <td>False</td>\n",
       "      <td>0</td>\n",
       "    </tr>\n",
       "    <tr>\n",
       "      <td>284211</td>\n",
       "      <td>RT @FerkNoFueMagia: Queremos venganza?\\nClaro,...</td>\n",
       "      <td>2019-10-27 21:52:28</td>\n",
       "      <td>NaN</td>\n",
       "      <td>es</td>\n",
       "      <td>NaN</td>\n",
       "      <td>26186</td>\n",
       "      <td>21801</td>\n",
       "      <td>Arkitekta.</td>\n",
       "      <td>San Isidro, Argentina</td>\n",
       "      <td>186578241</td>\n",
       "      <td>2010-09-03 20:52:56</td>\n",
       "      <td>False</td>\n",
       "      <td>NaN</td>\n",
       "      <td>0</td>\n",
       "      <td>1721</td>\n",
       "      <td>Irisia</td>\n",
       "      <td>irisia555</td>\n",
       "      <td>True</td>\n",
       "      <td>1188528911614918657</td>\n",
       "      <td>0</td>\n",
       "      <td>False</td>\n",
       "      <td>Twitter for Android</td>\n",
       "      <td>False</td>\n",
       "      <td>0</td>\n",
       "    </tr>\n",
       "  </tbody>\n",
       "</table>\n",
       "<p>284212 rows × 24 columns</p>\n",
       "</div>"
      ],
      "text/plain": [
       "                                                     text           created_at  geo lang                                              place  user.favourites_count  ...                   id favorite_count retweeted               source favorited  retweet_count\n",
       "0       RT @Javier_Torrox: 3. Los actores políticos es...  2019-10-27 20:17:42  NaN   es                                                NaN                 104468  ...  1188505060164145152              0     False   Twitter for iPhone     False              0\n",
       "1       RT @cbuteler: Quien habla primero hoy después ...  2019-10-27 20:17:42  NaN   es                                                NaN                  39488  ...  1188505060298412032              0     False      Twitter Web App     False              0\n",
       "2       RT @katyayguavella: Esta foto no es Venezuela,...  2019-10-27 20:17:42  NaN   es                                                NaN                   9653  ...  1188505060269002755              0     False  Twitter for Android     False              0\n",
       "3       RT @AnonimoSV503: #ULTIMAHORA \\nEntonces los d...  2019-10-27 20:17:42  NaN   es                                                NaN                   1125  ...  1188505060277473282              0     False  Twitter for Android     False              0\n",
       "4       Si Daniel Quintero queda de alcalde en Medellí...  2019-10-27 20:17:42  NaN   es                                                NaN                   3499  ...  1188505060617183232              0     False   Twitter for iPhone     False              0\n",
       "...                                                   ...                  ...  ...  ...                                                ...                    ...  ...                  ...            ...       ...                  ...       ...            ...\n",
       "284207  RT @jpeinan: Mientras tanto acá en Parque Ohig...  2019-10-27 21:52:28  NaN   es                                                NaN                   1478  ...  1188528911178698754              0     False      Twitter Web App     False              0\n",
       "284208  RT @Claudiashein: El mensaje de @monlaferte Va...  2019-10-27 21:52:28  NaN   es                                                NaN                    412  ...  1188528911484891136              0     False  Twitter for Android     False              0\n",
       "284209  Q lindo Male. Votamos por todos los q dia a di...  2019-10-27 21:52:28  NaN   es  Place(_api=None, id='011abdad7dddec83', url='h...                  14996  ...  1188528911279370242              0     False  Twitter for Android     False              0\n",
       "284210  RT @rmartinez_SW: @UNHumanRights @Yubisw Por f...  2019-10-27 21:52:28  NaN   es                                                NaN                  87873  ...  1188528911522713600              0     False   Twitter for iPhone     False              0\n",
       "284211  RT @FerkNoFueMagia: Queremos venganza?\\nClaro,...  2019-10-27 21:52:28  NaN   es                                                NaN                  26186  ...  1188528911614918657              0     False  Twitter for Android     False              0\n",
       "\n",
       "[284212 rows x 24 columns]"
      ]
     },
     "execution_count": 3,
     "metadata": {},
     "output_type": "execute_result"
    }
   ],
   "source": [
    "csv_1"
   ]
  },
  {
   "cell_type": "code",
   "execution_count": 4,
   "metadata": {},
   "outputs": [
    {
     "data": {
      "text/html": [
       "<div>\n",
       "<style scoped>\n",
       "    .dataframe tbody tr th:only-of-type {\n",
       "        vertical-align: middle;\n",
       "    }\n",
       "\n",
       "    .dataframe tbody tr th {\n",
       "        vertical-align: top;\n",
       "    }\n",
       "\n",
       "    .dataframe thead th {\n",
       "        text-align: right;\n",
       "    }\n",
       "</style>\n",
       "<table border=\"1\" class=\"dataframe\">\n",
       "  <thead>\n",
       "    <tr style=\"text-align: right;\">\n",
       "      <th></th>\n",
       "      <th>text</th>\n",
       "      <th>created_at</th>\n",
       "      <th>geo</th>\n",
       "      <th>lang</th>\n",
       "      <th>place</th>\n",
       "      <th>user.favourites_count</th>\n",
       "      <th>user.statuses_count</th>\n",
       "      <th>user.description</th>\n",
       "      <th>user.location</th>\n",
       "      <th>user.id</th>\n",
       "      <th>user.created_at</th>\n",
       "      <th>user.verified</th>\n",
       "      <th>user.url</th>\n",
       "      <th>user.listed_count</th>\n",
       "      <th>user.friends_count</th>\n",
       "      <th>user.name</th>\n",
       "      <th>user.screen_name</th>\n",
       "      <th>user.geo_enabled</th>\n",
       "      <th>id</th>\n",
       "      <th>favorite_count</th>\n",
       "      <th>retweeted</th>\n",
       "      <th>source</th>\n",
       "      <th>favorited</th>\n",
       "      <th>retweet_count</th>\n",
       "      <th>hash_tags</th>\n",
       "    </tr>\n",
       "  </thead>\n",
       "  <tbody>\n",
       "    <tr>\n",
       "      <td>0</td>\n",
       "      <td>RT @PCdeChile: Dejamos expresa nuestra volunta...</td>\n",
       "      <td>2019-10-30 21:00:23.999996</td>\n",
       "      <td>NaN</td>\n",
       "      <td>es</td>\n",
       "      <td>NaN</td>\n",
       "      <td>159</td>\n",
       "      <td>124155</td>\n",
       "      <td>NaN</td>\n",
       "      <td>NaN</td>\n",
       "      <td>268319976</td>\n",
       "      <td>2011-03-18 14:49:39</td>\n",
       "      <td>False</td>\n",
       "      <td>NaN</td>\n",
       "      <td>90</td>\n",
       "      <td>18867</td>\n",
       "      <td>PC_Juan Andrés Lagos</td>\n",
       "      <td>PC_JAL</td>\n",
       "      <td>True</td>\n",
       "      <td>1189693568786616320</td>\n",
       "      <td>0</td>\n",
       "      <td>False</td>\n",
       "      <td>Twitter for Android</td>\n",
       "      <td>False</td>\n",
       "      <td>0</td>\n",
       "      <td>set()</td>\n",
       "    </tr>\n",
       "    <tr>\n",
       "      <td>1</td>\n",
       "      <td>RT @ApoderadosOrg: Detuvieron a las apoderadas...</td>\n",
       "      <td>2019-10-30 21:00:23.999996</td>\n",
       "      <td>NaN</td>\n",
       "      <td>es</td>\n",
       "      <td>NaN</td>\n",
       "      <td>10611</td>\n",
       "      <td>32797</td>\n",
       "      <td>QUE CULPA DE TENER YO AVER NACIDO CON LA SANGR...</td>\n",
       "      <td>Metropolitana de Santiago, Chile</td>\n",
       "      <td>1277620470</td>\n",
       "      <td>2013-03-18 12:35:49</td>\n",
       "      <td>False</td>\n",
       "      <td>NaN</td>\n",
       "      <td>2</td>\n",
       "      <td>658</td>\n",
       "      <td>Carias Pino</td>\n",
       "      <td>CJAPino</td>\n",
       "      <td>True</td>\n",
       "      <td>1189693568719491073</td>\n",
       "      <td>0</td>\n",
       "      <td>False</td>\n",
       "      <td>Twitter for Android</td>\n",
       "      <td>False</td>\n",
       "      <td>0</td>\n",
       "      <td>set()</td>\n",
       "    </tr>\n",
       "    <tr>\n",
       "      <td>2</td>\n",
       "      <td>RT @MashiRafael: Como siempre, Gobierno y cori...</td>\n",
       "      <td>2019-10-30 21:00:23.999992</td>\n",
       "      <td>NaN</td>\n",
       "      <td>es</td>\n",
       "      <td>NaN</td>\n",
       "      <td>17867</td>\n",
       "      <td>30629</td>\n",
       "      <td>Por lo general no opino mucho; peeerooo, sí re...</td>\n",
       "      <td>NaN</td>\n",
       "      <td>2725710231</td>\n",
       "      <td>2014-07-26 22:53:16</td>\n",
       "      <td>False</td>\n",
       "      <td>NaN</td>\n",
       "      <td>2</td>\n",
       "      <td>2029</td>\n",
       "      <td>Alfredo García S.</td>\n",
       "      <td>rafagserra</td>\n",
       "      <td>True</td>\n",
       "      <td>1189693568958566400</td>\n",
       "      <td>0</td>\n",
       "      <td>False</td>\n",
       "      <td>Twitter for Android</td>\n",
       "      <td>False</td>\n",
       "      <td>0</td>\n",
       "      <td>set()</td>\n",
       "    </tr>\n",
       "    <tr>\n",
       "      <td>3</td>\n",
       "      <td>RT @madorni: Argentina, primer país exportador...</td>\n",
       "      <td>2019-10-30 21:00:23.999995</td>\n",
       "      <td>NaN</td>\n",
       "      <td>es</td>\n",
       "      <td>NaN</td>\n",
       "      <td>17043</td>\n",
       "      <td>20992</td>\n",
       "      <td>NaN</td>\n",
       "      <td>NaN</td>\n",
       "      <td>35792589</td>\n",
       "      <td>2009-04-27 16:56:55</td>\n",
       "      <td>False</td>\n",
       "      <td>NaN</td>\n",
       "      <td>0</td>\n",
       "      <td>488</td>\n",
       "      <td>Laura Ferrrero</td>\n",
       "      <td>LauraAFerrero</td>\n",
       "      <td>False</td>\n",
       "      <td>1189693568828526592</td>\n",
       "      <td>0</td>\n",
       "      <td>False</td>\n",
       "      <td>Twitter for Android</td>\n",
       "      <td>False</td>\n",
       "      <td>0</td>\n",
       "      <td>set()</td>\n",
       "    </tr>\n",
       "    <tr>\n",
       "      <td>4</td>\n",
       "      <td>RT @Danellypg: Bien diputada, la verdad por de...</td>\n",
       "      <td>2019-10-30 21:00:23.999994</td>\n",
       "      <td>NaN</td>\n",
       "      <td>es</td>\n",
       "      <td>NaN</td>\n",
       "      <td>35563</td>\n",
       "      <td>35404</td>\n",
       "      <td>Fonoaudióloga, soldadora al arco, deportista d...</td>\n",
       "      <td>• CHILE</td>\n",
       "      <td>84856765</td>\n",
       "      <td>2009-10-24 14:13:48</td>\n",
       "      <td>False</td>\n",
       "      <td>http://www.instagram.com/sbricenob</td>\n",
       "      <td>44</td>\n",
       "      <td>14590</td>\n",
       "      <td>Sandra Briceño Baeza</td>\n",
       "      <td>sbricenob</td>\n",
       "      <td>True</td>\n",
       "      <td>1189693568925028354</td>\n",
       "      <td>0</td>\n",
       "      <td>False</td>\n",
       "      <td>Twitter for iPhone</td>\n",
       "      <td>False</td>\n",
       "      <td>0</td>\n",
       "      <td>set()</td>\n",
       "    </tr>\n",
       "    <tr>\n",
       "      <td>...</td>\n",
       "      <td>...</td>\n",
       "      <td>...</td>\n",
       "      <td>...</td>\n",
       "      <td>...</td>\n",
       "      <td>...</td>\n",
       "      <td>...</td>\n",
       "      <td>...</td>\n",
       "      <td>...</td>\n",
       "      <td>...</td>\n",
       "      <td>...</td>\n",
       "      <td>...</td>\n",
       "      <td>...</td>\n",
       "      <td>...</td>\n",
       "      <td>...</td>\n",
       "      <td>...</td>\n",
       "      <td>...</td>\n",
       "      <td>...</td>\n",
       "      <td>...</td>\n",
       "      <td>...</td>\n",
       "      <td>...</td>\n",
       "      <td>...</td>\n",
       "      <td>...</td>\n",
       "      <td>...</td>\n",
       "      <td>...</td>\n",
       "      <td>...</td>\n",
       "    </tr>\n",
       "    <tr>\n",
       "      <td>145</td>\n",
       "      <td>RT @VERDECDMX: El @VERDECDMX apoya completamen...</td>\n",
       "      <td>2019-10-30 21:00:26.999989</td>\n",
       "      <td>NaN</td>\n",
       "      <td>es</td>\n",
       "      <td>NaN</td>\n",
       "      <td>5316</td>\n",
       "      <td>14448</td>\n",
       "      <td>Padre de familia, Partido Verde, Puma de coraz...</td>\n",
       "      <td>Ciudad de México</td>\n",
       "      <td>140245149</td>\n",
       "      <td>2010-05-05 00:42:02</td>\n",
       "      <td>False</td>\n",
       "      <td>https://www.facebook.com/carlosmadrazos</td>\n",
       "      <td>44</td>\n",
       "      <td>3002</td>\n",
       "      <td>Carlos A. Madrazo</td>\n",
       "      <td>CarlosMadrazoS</td>\n",
       "      <td>True</td>\n",
       "      <td>1189693579066671104</td>\n",
       "      <td>0</td>\n",
       "      <td>False</td>\n",
       "      <td>Twitter for iPhone</td>\n",
       "      <td>False</td>\n",
       "      <td>0</td>\n",
       "      <td>{'Tláhuac,'}</td>\n",
       "    </tr>\n",
       "    <tr>\n",
       "      <td>146</td>\n",
       "      <td>RT @CARLOSFMEJIA: #LaRealidad Policía de Chile...</td>\n",
       "      <td>2019-10-30 21:00:26.999993</td>\n",
       "      <td>NaN</td>\n",
       "      <td>es</td>\n",
       "      <td>NaN</td>\n",
       "      <td>294</td>\n",
       "      <td>26153</td>\n",
       "      <td>Colombiano defensor de la democracia / enemigo...</td>\n",
       "      <td>Huila, Colombia</td>\n",
       "      <td>618295707</td>\n",
       "      <td>2012-06-25 16:08:30</td>\n",
       "      <td>False</td>\n",
       "      <td>NaN</td>\n",
       "      <td>1</td>\n",
       "      <td>5003</td>\n",
       "      <td>hector polo</td>\n",
       "      <td>hectorpolo3</td>\n",
       "      <td>True</td>\n",
       "      <td>1189693579020701696</td>\n",
       "      <td>0</td>\n",
       "      <td>False</td>\n",
       "      <td>Twitter for Android</td>\n",
       "      <td>False</td>\n",
       "      <td>0</td>\n",
       "      <td>{'LaRealidad'}</td>\n",
       "    </tr>\n",
       "    <tr>\n",
       "      <td>147</td>\n",
       "      <td>RT @DrRightMB: Twittazo hoy!! 20:00 hrs. No má...</td>\n",
       "      <td>2019-10-30 21:00:26.999996</td>\n",
       "      <td>NaN</td>\n",
       "      <td>es</td>\n",
       "      <td>NaN</td>\n",
       "      <td>70</td>\n",
       "      <td>83</td>\n",
       "      <td>NaN</td>\n",
       "      <td>Temuco, Chile</td>\n",
       "      <td>4926096311</td>\n",
       "      <td>2016-02-18 01:43:51</td>\n",
       "      <td>False</td>\n",
       "      <td>NaN</td>\n",
       "      <td>0</td>\n",
       "      <td>31</td>\n",
       "      <td>Ricardo</td>\n",
       "      <td>Ricardomolfer</td>\n",
       "      <td>False</td>\n",
       "      <td>1189693579159113728</td>\n",
       "      <td>0</td>\n",
       "      <td>False</td>\n",
       "      <td>Twitter for iPhone</td>\n",
       "      <td>False</td>\n",
       "      <td>0</td>\n",
       "      <td>set()</td>\n",
       "    </tr>\n",
       "    <tr>\n",
       "      <td>148</td>\n",
       "      <td>RT @JositaRiesco: Aquí esta #KenitoINDH que di...</td>\n",
       "      <td>2019-10-30 21:00:26.999996</td>\n",
       "      <td>NaN</td>\n",
       "      <td>es</td>\n",
       "      <td>NaN</td>\n",
       "      <td>1815</td>\n",
       "      <td>408</td>\n",
       "      <td>NaN</td>\n",
       "      <td>NaN</td>\n",
       "      <td>885845949892919300</td>\n",
       "      <td>2017-07-14 12:58:27</td>\n",
       "      <td>False</td>\n",
       "      <td>NaN</td>\n",
       "      <td>0</td>\n",
       "      <td>144</td>\n",
       "      <td>Cauki</td>\n",
       "      <td>ClauNan2</td>\n",
       "      <td>False</td>\n",
       "      <td>1189693579276406784</td>\n",
       "      <td>0</td>\n",
       "      <td>False</td>\n",
       "      <td>Twitter Web App</td>\n",
       "      <td>False</td>\n",
       "      <td>0</td>\n",
       "      <td>{'tongoINDH', 'KenitoINDH', 'tongo', 'micco'}</td>\n",
       "    </tr>\n",
       "    <tr>\n",
       "      <td>149</td>\n",
       "      <td>RT @annicuter: VENEZOLANOS HUYENDO EN TODOS LA...</td>\n",
       "      <td>2019-10-30 21:00:26.999993</td>\n",
       "      <td>NaN</td>\n",
       "      <td>es</td>\n",
       "      <td>NaN</td>\n",
       "      <td>1343</td>\n",
       "      <td>2312</td>\n",
       "      <td>Ciudadano venezolano que desea a Venezuela lib...</td>\n",
       "      <td>Distrito Capital, Venezuela</td>\n",
       "      <td>1148295853083377664</td>\n",
       "      <td>2019-07-08 18:20:40</td>\n",
       "      <td>False</td>\n",
       "      <td>NaN</td>\n",
       "      <td>0</td>\n",
       "      <td>68</td>\n",
       "      <td>Ñero Baruta</td>\n",
       "      <td>NeroBaruta</td>\n",
       "      <td>False</td>\n",
       "      <td>1189693579222044672</td>\n",
       "      <td>0</td>\n",
       "      <td>False</td>\n",
       "      <td>Twitter Web App</td>\n",
       "      <td>False</td>\n",
       "      <td>0</td>\n",
       "      <td>set()</td>\n",
       "    </tr>\n",
       "  </tbody>\n",
       "</table>\n",
       "<p>150 rows × 25 columns</p>\n",
       "</div>"
      ],
      "text/plain": [
       "                                                  text                  created_at  geo lang  place  user.favourites_count  ...  favorite_count retweeted               source  favorited retweet_count                                      hash_tags\n",
       "0    RT @PCdeChile: Dejamos expresa nuestra volunta...  2019-10-30 21:00:23.999996  NaN   es    NaN                    159  ...               0     False  Twitter for Android      False             0                                          set()\n",
       "1    RT @ApoderadosOrg: Detuvieron a las apoderadas...  2019-10-30 21:00:23.999996  NaN   es    NaN                  10611  ...               0     False  Twitter for Android      False             0                                          set()\n",
       "2    RT @MashiRafael: Como siempre, Gobierno y cori...  2019-10-30 21:00:23.999992  NaN   es    NaN                  17867  ...               0     False  Twitter for Android      False             0                                          set()\n",
       "3    RT @madorni: Argentina, primer país exportador...  2019-10-30 21:00:23.999995  NaN   es    NaN                  17043  ...               0     False  Twitter for Android      False             0                                          set()\n",
       "4    RT @Danellypg: Bien diputada, la verdad por de...  2019-10-30 21:00:23.999994  NaN   es    NaN                  35563  ...               0     False   Twitter for iPhone      False             0                                          set()\n",
       "..                                                 ...                         ...  ...  ...    ...                    ...  ...             ...       ...                  ...        ...           ...                                            ...\n",
       "145  RT @VERDECDMX: El @VERDECDMX apoya completamen...  2019-10-30 21:00:26.999989  NaN   es    NaN                   5316  ...               0     False   Twitter for iPhone      False             0                                   {'Tláhuac,'}\n",
       "146  RT @CARLOSFMEJIA: #LaRealidad Policía de Chile...  2019-10-30 21:00:26.999993  NaN   es    NaN                    294  ...               0     False  Twitter for Android      False             0                                 {'LaRealidad'}\n",
       "147  RT @DrRightMB: Twittazo hoy!! 20:00 hrs. No má...  2019-10-30 21:00:26.999996  NaN   es    NaN                     70  ...               0     False   Twitter for iPhone      False             0                                          set()\n",
       "148  RT @JositaRiesco: Aquí esta #KenitoINDH que di...  2019-10-30 21:00:26.999996  NaN   es    NaN                   1815  ...               0     False      Twitter Web App      False             0  {'tongoINDH', 'KenitoINDH', 'tongo', 'micco'}\n",
       "149  RT @annicuter: VENEZOLANOS HUYENDO EN TODOS LA...  2019-10-30 21:00:26.999993  NaN   es    NaN                   1343  ...               0     False      Twitter Web App      False             0                                          set()\n",
       "\n",
       "[150 rows x 25 columns]"
      ]
     },
     "execution_count": 4,
     "metadata": {},
     "output_type": "execute_result"
    }
   ],
   "source": [
    "csv_2"
   ]
  },
  {
   "cell_type": "code",
   "execution_count": 2,
   "metadata": {},
   "outputs": [
    {
     "ename": "NameError",
     "evalue": "name 'read_mongo' is not defined",
     "output_type": "error",
     "traceback": [
      "\u001b[0;31m---------------------------------------------------------------------------\u001b[0m",
      "\u001b[0;31mNameError\u001b[0m                                 Traceback (most recent call last)",
      "\u001b[0;32m<ipython-input-2-0791bc7c3f29>\u001b[0m in \u001b[0;36m<module>\u001b[0;34m\u001b[0m\n\u001b[0;32m----> 1\u001b[0;31m \u001b[0mdf\u001b[0m \u001b[0;34m=\u001b[0m \u001b[0mread_mongo\u001b[0m\u001b[0;34m(\u001b[0m\u001b[0;34m'dbTweets'\u001b[0m\u001b[0;34m,\u001b[0m \u001b[0;34m'tweets_chile'\u001b[0m\u001b[0;34m)\u001b[0m\u001b[0;34m\u001b[0m\u001b[0;34m\u001b[0m\u001b[0m\n\u001b[0m",
      "\u001b[0;31mNameError\u001b[0m: name 'read_mongo' is not defined"
     ]
    }
   ],
   "source": [
    "df = read_mongo('dbTweets', 'tweets_chile')\n"
   ]
  },
  {
   "cell_type": "code",
   "execution_count": 15,
   "metadata": {},
   "outputs": [
    {
     "data": {
      "text/plain": [
       "array([145715])"
      ]
     },
     "execution_count": 15,
     "metadata": {},
     "output_type": "execute_result"
    }
   ],
   "source": [
    "import numpy as np\n",
    "from utils_app import get_username_list\n",
    "politicos = get_username_list('data/Politicos-Twitter.csv')\n",
    "\n",
    "np.where(df['screenName'] == politicos[9])[0]"
   ]
  },
  {
   "cell_type": "code",
   "execution_count": null,
   "metadata": {},
   "outputs": [],
   "source": []
  }
 ],
 "metadata": {
  "kernelspec": {
   "display_name": "Python 3",
   "language": "python",
   "name": "python3"
  },
  "language_info": {
   "codemirror_mode": {
    "name": "ipython",
    "version": 3
   },
   "file_extension": ".py",
   "mimetype": "text/x-python",
   "name": "python",
   "nbconvert_exporter": "python",
   "pygments_lexer": "ipython3",
   "version": "3.7.4"
  },
  "pycharm": {
   "stem_cell": {
    "cell_type": "raw",
    "metadata": {
     "collapsed": false
    },
    "source": []
   }
  },
  "toc": {
   "base_numbering": 1,
   "nav_menu": {},
   "number_sections": true,
   "sideBar": true,
   "skip_h1_title": false,
   "title_cell": "Table of Contents",
   "title_sidebar": "Contents",
   "toc_cell": false,
   "toc_position": {},
   "toc_section_display": true,
   "toc_window_display": false
  }
 },
 "nbformat": 4,
 "nbformat_minor": 2
}
