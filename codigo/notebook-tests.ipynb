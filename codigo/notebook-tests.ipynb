{
 "cells": [
  {
   "cell_type": "code",
   "execution_count": 1,
   "metadata": {
    "ExecuteTime": {
     "end_time": "2019-10-25T01:16:31.855785Z",
     "start_time": "2019-10-25T01:16:25.783014Z"
    }
   },
   "outputs": [
    {
     "name": "stderr",
     "output_type": "stream",
     "text": [
      "/Library/Frameworks/Python.framework/Versions/3.6/lib/python3.6/importlib/_bootstrap.py:219: RuntimeWarning: numpy.dtype size changed, may indicate binary incompatibility. Expected 96, got 88\n",
      "  return f(*args, **kwds)\n"
     ]
    }
   ],
   "source": [
    "%matplotlib notebook\n",
    "import matplotlib.pyplot as plt\n",
    "from main import get_keywords, get_searchWords\n",
    "import config\n",
    "import tweepy\n",
    "import pandas as pd\n",
    "import seaborn as sb\n",
    "from datetime import timedelta"
   ]
  },
  {
   "cell_type": "code",
   "execution_count": 2,
   "metadata": {
    "ExecuteTime": {
     "end_time": "2019-10-25T01:16:31.869249Z",
     "start_time": "2019-10-25T01:16:31.860892Z"
    }
   },
   "outputs": [],
   "source": [
    "def get_hashtags(tweet):\n",
    "    HT = tweet.entities['hashtags']\n",
    "    if len(HT) != 0:\n",
    "        return [T['text'] for T in HT]\n",
    "    return None\n",
    "\n",
    "def get_usermentions(tweet):\n",
    "    HT = tweet.entities['user_mentions']\n",
    "    if len(HT) != 0:\n",
    "        return [T['screen_name'] for T in HT]\n",
    "    return None"
   ]
  },
  {
   "cell_type": "code",
   "execution_count": 3,
   "metadata": {
    "ExecuteTime": {
     "end_time": "2019-10-25T01:16:31.883374Z",
     "start_time": "2019-10-25T01:16:31.873656Z"
    }
   },
   "outputs": [],
   "source": [
    "# AUTH #\n",
    "auth = tweepy.OAuthHandler(config.CONSUMER_KEY, config.CONSUMER_SECRET)\n",
    "auth.set_access_token(config.ACCESS_TOKEN, config.ACCESS_TOKEN_SECRET)"
   ]
  },
  {
   "cell_type": "code",
   "execution_count": 4,
   "metadata": {
    "ExecuteTime": {
     "end_time": "2019-10-25T01:16:31.904894Z",
     "start_time": "2019-10-25T01:16:31.889004Z"
    },
    "scrolled": true
   },
   "outputs": [],
   "source": [
    "# API #\n",
    "api = tweepy.API(auth)"
   ]
  },
  {
   "cell_type": "code",
   "execution_count": 5,
   "metadata": {
    "ExecuteTime": {
     "end_time": "2019-10-25T01:16:31.927333Z",
     "start_time": "2019-10-25T01:16:31.910913Z"
    }
   },
   "outputs": [],
   "source": [
    "# Parametros de busqueda #\n",
    "search_words = get_searchWords()\n",
    "date_since = \"2019-10-16\""
   ]
  },
  {
   "cell_type": "code",
   "execution_count": 6,
   "metadata": {
    "ExecuteTime": {
     "end_time": "2019-10-25T01:16:31.947086Z",
     "start_time": "2019-10-25T01:16:31.931524Z"
    }
   },
   "outputs": [],
   "source": [
    "# CURSOR #\n",
    "tweets = tweepy.Cursor(api.search,\n",
    "                        q=search_words,\n",
    "                        lang='es',\n",
    "                        since=date_since).items(500)"
   ]
  },
  {
   "cell_type": "code",
   "execution_count": 7,
   "metadata": {
    "ExecuteTime": {
     "end_time": "2019-10-25T01:16:59.215541Z",
     "start_time": "2019-10-25T01:16:31.950050Z"
    }
   },
   "outputs": [],
   "source": [
    "# PROCESSING #\n",
    "tweets_list = [tweet for tweet in tweets]\n",
    "\n",
    "users_locs = [[h.created_at, h.user.screen_name, get_usermentions(h), get_hashtags(h), h.user.location] for h in tweets_list]"
   ]
  },
  {
   "cell_type": "code",
   "execution_count": 8,
   "metadata": {
    "ExecuteTime": {
     "end_time": "2019-10-25T01:16:59.345819Z",
     "start_time": "2019-10-25T01:16:59.229419Z"
    }
   },
   "outputs": [],
   "source": [
    "# DATAFRAME #\n",
    "twitter_df = pd.DataFrame(data=users_locs,\n",
    "                              columns=['time', 'user', 'user_mentions', 'hashtags', \"location\"])\n",
    "twitter_df['time'] += timedelta(hours=-3)"
   ]
  },
  {
   "cell_type": "code",
   "execution_count": 9,
   "metadata": {
    "ExecuteTime": {
     "end_time": "2019-10-25T01:16:59.975123Z",
     "start_time": "2019-10-25T01:16:59.392118Z"
    }
   },
   "outputs": [
    {
     "data": {
      "text/plain": [
       "<IPython.core.display.Javascript object>"
      ]
     },
     "metadata": {},
     "output_type": "display_data"
    },
    {
     "data": {
      "text/html": [
       "<img src=\"data:image/png;base64,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\" width=\"640\">"
      ],
      "text/plain": [
       "<IPython.core.display.HTML object>"
      ]
     },
     "metadata": {},
     "output_type": "execute_result"
    }
   ],
   "source": [
    "twitter_df['time'].hist()\n",
    "plt.xticks(rotation=-45)\n",
    "plt.tight_layout()"
   ]
  },
  {
   "cell_type": "code",
   "execution_count": 12,
   "metadata": {
    "ExecuteTime": {
     "end_time": "2019-10-25T01:21:36.331124Z",
     "start_time": "2019-10-25T01:21:34.694383Z"
    }
   },
   "outputs": [
    {
     "ename": "KeyError",
     "evalue": "False",
     "traceback": [
      "\u001b[0;31m---------------------------------------------------------------------------\u001b[0m",
      "\u001b[0;31mKeyError\u001b[0m                                  Traceback (most recent call last)",
      "\u001b[0;32m/Library/Frameworks/Python.framework/Versions/3.6/lib/python3.6/site-packages/pandas/core/indexes/base.py\u001b[0m in \u001b[0;36mget_loc\u001b[0;34m(self, key, method, tolerance)\u001b[0m\n\u001b[1;32m   3077\u001b[0m             \u001b[0;32mtry\u001b[0m\u001b[0;34m:\u001b[0m\u001b[0;34m\u001b[0m\u001b[0m\n\u001b[0;32m-> 3078\u001b[0;31m                 \u001b[0;32mreturn\u001b[0m \u001b[0mself\u001b[0m\u001b[0;34m.\u001b[0m\u001b[0m_engine\u001b[0m\u001b[0;34m.\u001b[0m\u001b[0mget_loc\u001b[0m\u001b[0;34m(\u001b[0m\u001b[0mkey\u001b[0m\u001b[0;34m)\u001b[0m\u001b[0;34m\u001b[0m\u001b[0m\n\u001b[0m\u001b[1;32m   3079\u001b[0m             \u001b[0;32mexcept\u001b[0m \u001b[0mKeyError\u001b[0m\u001b[0;34m:\u001b[0m\u001b[0;34m\u001b[0m\u001b[0m\n",
      "\u001b[0;32mpandas/_libs/index.pyx\u001b[0m in \u001b[0;36mpandas._libs.index.IndexEngine.get_loc\u001b[0;34m()\u001b[0m\n",
      "\u001b[0;32mpandas/_libs/index.pyx\u001b[0m in \u001b[0;36mpandas._libs.index.IndexEngine.get_loc\u001b[0;34m()\u001b[0m\n",
      "\u001b[0;32mpandas/_libs/hashtable_class_helper.pxi\u001b[0m in \u001b[0;36mpandas._libs.hashtable.PyObjectHashTable.get_item\u001b[0;34m()\u001b[0m\n",
      "\u001b[0;32mpandas/_libs/hashtable_class_helper.pxi\u001b[0m in \u001b[0;36mpandas._libs.hashtable.PyObjectHashTable.get_item\u001b[0;34m()\u001b[0m\n",
      "\u001b[0;31mKeyError\u001b[0m: False",
      "\nDuring handling of the above exception, another exception occurred:\n",
      "\u001b[0;31mKeyError\u001b[0m                                  Traceback (most recent call last)",
      "\u001b[0;32m<ipython-input-12-a5858c8f3183>\u001b[0m in \u001b[0;36m<module>\u001b[0;34m()\u001b[0m\n\u001b[0;32m----> 1\u001b[0;31m \u001b[0mtwitter_df\u001b[0m\u001b[0;34m[\u001b[0m\u001b[0;34m'user'\u001b[0m\u001b[0;34m==\u001b[0m\u001b[0;34m'panconchancho'\u001b[0m\u001b[0;34m]\u001b[0m\u001b[0;34m\u001b[0m\u001b[0m\n\u001b[0m",
      "\u001b[0;32m/Library/Frameworks/Python.framework/Versions/3.6/lib/python3.6/site-packages/pandas/core/frame.py\u001b[0m in \u001b[0;36m__getitem__\u001b[0;34m(self, key)\u001b[0m\n\u001b[1;32m   2686\u001b[0m             \u001b[0;32mreturn\u001b[0m \u001b[0mself\u001b[0m\u001b[0;34m.\u001b[0m\u001b[0m_getitem_multilevel\u001b[0m\u001b[0;34m(\u001b[0m\u001b[0mkey\u001b[0m\u001b[0;34m)\u001b[0m\u001b[0;34m\u001b[0m\u001b[0m\n\u001b[1;32m   2687\u001b[0m         \u001b[0;32melse\u001b[0m\u001b[0;34m:\u001b[0m\u001b[0;34m\u001b[0m\u001b[0m\n\u001b[0;32m-> 2688\u001b[0;31m             \u001b[0;32mreturn\u001b[0m \u001b[0mself\u001b[0m\u001b[0;34m.\u001b[0m\u001b[0m_getitem_column\u001b[0m\u001b[0;34m(\u001b[0m\u001b[0mkey\u001b[0m\u001b[0;34m)\u001b[0m\u001b[0;34m\u001b[0m\u001b[0m\n\u001b[0m\u001b[1;32m   2689\u001b[0m \u001b[0;34m\u001b[0m\u001b[0m\n\u001b[1;32m   2690\u001b[0m     \u001b[0;32mdef\u001b[0m \u001b[0m_getitem_column\u001b[0m\u001b[0;34m(\u001b[0m\u001b[0mself\u001b[0m\u001b[0;34m,\u001b[0m \u001b[0mkey\u001b[0m\u001b[0;34m)\u001b[0m\u001b[0;34m:\u001b[0m\u001b[0;34m\u001b[0m\u001b[0m\n",
      "\u001b[0;32m/Library/Frameworks/Python.framework/Versions/3.6/lib/python3.6/site-packages/pandas/core/frame.py\u001b[0m in \u001b[0;36m_getitem_column\u001b[0;34m(self, key)\u001b[0m\n\u001b[1;32m   2693\u001b[0m         \u001b[0;31m# get column\u001b[0m\u001b[0;34m\u001b[0m\u001b[0;34m\u001b[0m\u001b[0m\n\u001b[1;32m   2694\u001b[0m         \u001b[0;32mif\u001b[0m \u001b[0mself\u001b[0m\u001b[0;34m.\u001b[0m\u001b[0mcolumns\u001b[0m\u001b[0;34m.\u001b[0m\u001b[0mis_unique\u001b[0m\u001b[0;34m:\u001b[0m\u001b[0;34m\u001b[0m\u001b[0m\n\u001b[0;32m-> 2695\u001b[0;31m             \u001b[0;32mreturn\u001b[0m \u001b[0mself\u001b[0m\u001b[0;34m.\u001b[0m\u001b[0m_get_item_cache\u001b[0m\u001b[0;34m(\u001b[0m\u001b[0mkey\u001b[0m\u001b[0;34m)\u001b[0m\u001b[0;34m\u001b[0m\u001b[0m\n\u001b[0m\u001b[1;32m   2696\u001b[0m \u001b[0;34m\u001b[0m\u001b[0m\n\u001b[1;32m   2697\u001b[0m         \u001b[0;31m# duplicate columns & possible reduce dimensionality\u001b[0m\u001b[0;34m\u001b[0m\u001b[0;34m\u001b[0m\u001b[0m\n",
      "\u001b[0;32m/Library/Frameworks/Python.framework/Versions/3.6/lib/python3.6/site-packages/pandas/core/generic.py\u001b[0m in \u001b[0;36m_get_item_cache\u001b[0;34m(self, item)\u001b[0m\n\u001b[1;32m   2487\u001b[0m         \u001b[0mres\u001b[0m \u001b[0;34m=\u001b[0m \u001b[0mcache\u001b[0m\u001b[0;34m.\u001b[0m\u001b[0mget\u001b[0m\u001b[0;34m(\u001b[0m\u001b[0mitem\u001b[0m\u001b[0;34m)\u001b[0m\u001b[0;34m\u001b[0m\u001b[0m\n\u001b[1;32m   2488\u001b[0m         \u001b[0;32mif\u001b[0m \u001b[0mres\u001b[0m \u001b[0;32mis\u001b[0m \u001b[0;32mNone\u001b[0m\u001b[0;34m:\u001b[0m\u001b[0;34m\u001b[0m\u001b[0m\n\u001b[0;32m-> 2489\u001b[0;31m             \u001b[0mvalues\u001b[0m \u001b[0;34m=\u001b[0m \u001b[0mself\u001b[0m\u001b[0;34m.\u001b[0m\u001b[0m_data\u001b[0m\u001b[0;34m.\u001b[0m\u001b[0mget\u001b[0m\u001b[0;34m(\u001b[0m\u001b[0mitem\u001b[0m\u001b[0;34m)\u001b[0m\u001b[0;34m\u001b[0m\u001b[0m\n\u001b[0m\u001b[1;32m   2490\u001b[0m             \u001b[0mres\u001b[0m \u001b[0;34m=\u001b[0m \u001b[0mself\u001b[0m\u001b[0;34m.\u001b[0m\u001b[0m_box_item_values\u001b[0m\u001b[0;34m(\u001b[0m\u001b[0mitem\u001b[0m\u001b[0;34m,\u001b[0m \u001b[0mvalues\u001b[0m\u001b[0;34m)\u001b[0m\u001b[0;34m\u001b[0m\u001b[0m\n\u001b[1;32m   2491\u001b[0m             \u001b[0mcache\u001b[0m\u001b[0;34m[\u001b[0m\u001b[0mitem\u001b[0m\u001b[0;34m]\u001b[0m \u001b[0;34m=\u001b[0m \u001b[0mres\u001b[0m\u001b[0;34m\u001b[0m\u001b[0m\n",
      "\u001b[0;32m/Library/Frameworks/Python.framework/Versions/3.6/lib/python3.6/site-packages/pandas/core/internals.py\u001b[0m in \u001b[0;36mget\u001b[0;34m(self, item, fastpath)\u001b[0m\n\u001b[1;32m   4113\u001b[0m \u001b[0;34m\u001b[0m\u001b[0m\n\u001b[1;32m   4114\u001b[0m             \u001b[0;32mif\u001b[0m \u001b[0;32mnot\u001b[0m \u001b[0misna\u001b[0m\u001b[0;34m(\u001b[0m\u001b[0mitem\u001b[0m\u001b[0;34m)\u001b[0m\u001b[0;34m:\u001b[0m\u001b[0;34m\u001b[0m\u001b[0m\n\u001b[0;32m-> 4115\u001b[0;31m                 \u001b[0mloc\u001b[0m \u001b[0;34m=\u001b[0m \u001b[0mself\u001b[0m\u001b[0;34m.\u001b[0m\u001b[0mitems\u001b[0m\u001b[0;34m.\u001b[0m\u001b[0mget_loc\u001b[0m\u001b[0;34m(\u001b[0m\u001b[0mitem\u001b[0m\u001b[0;34m)\u001b[0m\u001b[0;34m\u001b[0m\u001b[0m\n\u001b[0m\u001b[1;32m   4116\u001b[0m             \u001b[0;32melse\u001b[0m\u001b[0;34m:\u001b[0m\u001b[0;34m\u001b[0m\u001b[0m\n\u001b[1;32m   4117\u001b[0m                 \u001b[0mindexer\u001b[0m \u001b[0;34m=\u001b[0m \u001b[0mnp\u001b[0m\u001b[0;34m.\u001b[0m\u001b[0marange\u001b[0m\u001b[0;34m(\u001b[0m\u001b[0mlen\u001b[0m\u001b[0;34m(\u001b[0m\u001b[0mself\u001b[0m\u001b[0;34m.\u001b[0m\u001b[0mitems\u001b[0m\u001b[0;34m)\u001b[0m\u001b[0;34m)\u001b[0m\u001b[0;34m[\u001b[0m\u001b[0misna\u001b[0m\u001b[0;34m(\u001b[0m\u001b[0mself\u001b[0m\u001b[0;34m.\u001b[0m\u001b[0mitems\u001b[0m\u001b[0;34m)\u001b[0m\u001b[0;34m]\u001b[0m\u001b[0;34m\u001b[0m\u001b[0m\n",
      "\u001b[0;32m/Library/Frameworks/Python.framework/Versions/3.6/lib/python3.6/site-packages/pandas/core/indexes/base.py\u001b[0m in \u001b[0;36mget_loc\u001b[0;34m(self, key, method, tolerance)\u001b[0m\n\u001b[1;32m   3078\u001b[0m                 \u001b[0;32mreturn\u001b[0m \u001b[0mself\u001b[0m\u001b[0;34m.\u001b[0m\u001b[0m_engine\u001b[0m\u001b[0;34m.\u001b[0m\u001b[0mget_loc\u001b[0m\u001b[0;34m(\u001b[0m\u001b[0mkey\u001b[0m\u001b[0;34m)\u001b[0m\u001b[0;34m\u001b[0m\u001b[0m\n\u001b[1;32m   3079\u001b[0m             \u001b[0;32mexcept\u001b[0m \u001b[0mKeyError\u001b[0m\u001b[0;34m:\u001b[0m\u001b[0;34m\u001b[0m\u001b[0m\n\u001b[0;32m-> 3080\u001b[0;31m                 \u001b[0;32mreturn\u001b[0m \u001b[0mself\u001b[0m\u001b[0;34m.\u001b[0m\u001b[0m_engine\u001b[0m\u001b[0;34m.\u001b[0m\u001b[0mget_loc\u001b[0m\u001b[0;34m(\u001b[0m\u001b[0mself\u001b[0m\u001b[0;34m.\u001b[0m\u001b[0m_maybe_cast_indexer\u001b[0m\u001b[0;34m(\u001b[0m\u001b[0mkey\u001b[0m\u001b[0;34m)\u001b[0m\u001b[0;34m)\u001b[0m\u001b[0;34m\u001b[0m\u001b[0m\n\u001b[0m\u001b[1;32m   3081\u001b[0m \u001b[0;34m\u001b[0m\u001b[0m\n\u001b[1;32m   3082\u001b[0m         \u001b[0mindexer\u001b[0m \u001b[0;34m=\u001b[0m \u001b[0mself\u001b[0m\u001b[0;34m.\u001b[0m\u001b[0mget_indexer\u001b[0m\u001b[0;34m(\u001b[0m\u001b[0;34m[\u001b[0m\u001b[0mkey\u001b[0m\u001b[0;34m]\u001b[0m\u001b[0;34m,\u001b[0m \u001b[0mmethod\u001b[0m\u001b[0;34m=\u001b[0m\u001b[0mmethod\u001b[0m\u001b[0;34m,\u001b[0m \u001b[0mtolerance\u001b[0m\u001b[0;34m=\u001b[0m\u001b[0mtolerance\u001b[0m\u001b[0;34m)\u001b[0m\u001b[0;34m\u001b[0m\u001b[0m\n",
      "\u001b[0;32mpandas/_libs/index.pyx\u001b[0m in \u001b[0;36mpandas._libs.index.IndexEngine.get_loc\u001b[0;34m()\u001b[0m\n",
      "\u001b[0;32mpandas/_libs/index.pyx\u001b[0m in \u001b[0;36mpandas._libs.index.IndexEngine.get_loc\u001b[0;34m()\u001b[0m\n",
      "\u001b[0;32mpandas/_libs/hashtable_class_helper.pxi\u001b[0m in \u001b[0;36mpandas._libs.hashtable.PyObjectHashTable.get_item\u001b[0;34m()\u001b[0m\n",
      "\u001b[0;32mpandas/_libs/hashtable_class_helper.pxi\u001b[0m in \u001b[0;36mpandas._libs.hashtable.PyObjectHashTable.get_item\u001b[0;34m()\u001b[0m\n",
      "\u001b[0;31mKeyError\u001b[0m: False"
     ],
     "output_type": "error"
    }
   ],
   "source": [
    "twitter_df['user']"
   ]
  },
  {
   "cell_type": "code",
   "execution_count": null,
   "metadata": {},
   "outputs": [],
   "source": []
  }
 ],
 "metadata": {
  "kernelspec": {
   "display_name": "Python 3",
   "language": "python",
   "name": "python3"
  },
  "language_info": {
   "codemirror_mode": {
    "name": "ipython",
    "version": 3
   },
   "file_extension": ".py",
   "mimetype": "text/x-python",
   "name": "python",
   "nbconvert_exporter": "python",
   "pygments_lexer": "ipython3",
   "version": "3.6.5"
  },
  "toc": {
   "base_numbering": 1.0,
   "nav_menu": {},
   "number_sections": true,
   "sideBar": true,
   "skip_h1_title": false,
   "title_cell": "Table of Contents",
   "title_sidebar": "Contents",
   "toc_cell": false,
   "toc_position": {},
   "toc_section_display": true,
   "toc_window_display": false
  }
 },
 "nbformat": 4,
 "nbformat_minor": 2
}
